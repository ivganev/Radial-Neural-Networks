{
 "cells": [
  {
   "cell_type": "code",
   "execution_count": 1,
   "id": "advanced-proportion",
   "metadata": {},
   "outputs": [
    {
     "name": "stdout",
     "output_type": "stream",
     "text": [
      "Running on: cpu\n"
     ]
    }
   ],
   "source": [
    "import numpy as np\n",
    "from typing import List\n",
    "\n",
    "import torch\n",
    "import math\n",
    "import torch.nn as nn\n",
    "import torch.optim as optim\n",
    "import matplotlib.pyplot as plt\n",
    "import torch.nn.functional as F\n",
    "\n",
    "import argparse\n",
    "from tqdm import tqdm\n",
    "\n",
    "from torch.utils.data import Dataset\n",
    "from torch.utils.data import DataLoader\n",
    "from torchvision import datasets\n",
    "from torchvision.transforms import ToTensor\n",
    "\n",
    "from source import *"
   ]
  },
  {
   "cell_type": "markdown",
   "id": "saved-azerbaijan",
   "metadata": {},
   "source": [
    "# Set-up"
   ]
  },
  {
   "cell_type": "code",
   "execution_count": 2,
   "id": "medical-allocation",
   "metadata": {},
   "outputs": [],
   "source": [
    "# Step RelU\n",
    "# Version for the eta in the definition of a radial rescaling activation\n",
    "\n",
    "def stepReLU_eta(r):\n",
    "    if r.shape == torch.Size([]):\n",
    "        if r < 1:\n",
    "            return 1e-6\n",
    "        return r\n",
    "    else:\n",
    "        for i in range(len(r)):\n",
    "            if r[i] < 1:\n",
    "                r[i] = 1e-6\n",
    "        return r"
   ]
  },
  {
   "cell_type": "code",
   "execution_count": 3,
   "id": "opponent-asthma",
   "metadata": {},
   "outputs": [],
   "source": [
    "# Create uniform random noise in the unit d-ball\n",
    "def generate_noise(m, r, d=28*28):\n",
    "    '''m is the number of samples, r is the radius\n",
    "    d is the total dimension, which is 28*28 for MNIST'''\n",
    "    \n",
    "    u = np.random.multivariate_normal(np.zeros(d),np.eye(d),m)  # an array of d normally distributed random variables\n",
    "    norm=np.sum(u**2, axis = 1) **(0.5)\n",
    "    norm = norm.reshape(m,1)\n",
    "    rands = np.random.uniform(size=m)**(1.0/d)\n",
    "    rands = rands.reshape(m,1)\n",
    "    return r*rands*u/norm\n",
    "\n",
    "# Note: need to do the following before adding to a sample:\n",
    "# torch.tensor(generate_noise(m,radius,d)).reshape(m,1,28,28)"
   ]
  },
  {
   "cell_type": "code",
   "execution_count": 4,
   "id": "czech-mouth",
   "metadata": {},
   "outputs": [],
   "source": [
    "# Calculate distances\n",
    "def smallest_distance(x: torch.tensor) -> float:\n",
    "    radius = float('inf')\n",
    "    for i in range(len(x)):\n",
    "        for j in range(i):\n",
    "            if torch.linalg.norm(x[i] - x[j]).item() < radius:\n",
    "                radius = torch.linalg.norm(x[i] - x[j]).item()\n",
    "    return radius"
   ]
  },
  {
   "cell_type": "code",
   "execution_count": 5,
   "id": "sixth-carroll",
   "metadata": {},
   "outputs": [],
   "source": [
    "# Calculate distances\n",
    "def shortest_distances(x: torch.tensor) -> list:\n",
    "    result = []\n",
    "    for i in range(len(x)):\n",
    "        radius = float('inf')\n",
    "        for j in range(i):\n",
    "            if torch.linalg.norm(x[i] - x[j]).item() < radius:\n",
    "                radius = torch.linalg.norm(x[i] - x[j]).item()\n",
    "        for j in range(i+1,len(x)):\n",
    "            if torch.linalg.norm(x[i] - x[j]).item() < radius:\n",
    "                radius = torch.linalg.norm(x[i] - x[j]).item()\n",
    "        result.append(radius)\n",
    "    return result"
   ]
  },
  {
   "cell_type": "code",
   "execution_count": 6,
   "id": "running-three",
   "metadata": {},
   "outputs": [
    {
     "data": {
      "text/plain": [
       "[0.5, 2.0, 4.0, 20.0, 0.5]"
      ]
     },
     "execution_count": 6,
     "metadata": {},
     "output_type": "execute_result"
    }
   ],
   "source": [
    "shortest_distances(torch.tensor([3.,5.,9.,29., 2.5]))"
   ]
  },
  {
   "cell_type": "markdown",
   "id": "retired-finder",
   "metadata": {},
   "source": [
    "# Get MNIST"
   ]
  },
  {
   "cell_type": "code",
   "execution_count": 7,
   "id": "separated-roommate",
   "metadata": {},
   "outputs": [],
   "source": [
    "training_data = datasets.MNIST(\n",
    "    root=\"data\",\n",
    "    train=True,\n",
    "    download=True,\n",
    "    transform=ToTensor()\n",
    ")"
   ]
  },
  {
   "cell_type": "code",
   "execution_count": 8,
   "id": "animated-massage",
   "metadata": {},
   "outputs": [],
   "source": [
    "batch_size = 128\n",
    "train_dataloader = DataLoader(training_data, batch_size, shuffle=True)"
   ]
  },
  {
   "cell_type": "code",
   "execution_count": 9,
   "id": "decreased-police",
   "metadata": {},
   "outputs": [
    {
     "name": "stdout",
     "output_type": "stream",
     "text": [
      "Feature batch shape: torch.Size([128, 1, 28, 28])\n",
      "Labels batch shape: torch.Size([128])\n"
     ]
    }
   ],
   "source": [
    "train_features, train_labels = next(iter(train_dataloader))\n",
    "print(f\"Feature batch shape: {train_features.size()}\")\n",
    "print(f\"Labels batch shape: {train_labels.size()}\")\n",
    "\n",
    "if False:\n",
    "    img = train_features[0].squeeze()\n",
    "    label = train_labels[0]\n",
    "    plt.imshow(img, cmap=\"gray\")\n",
    "    plt.show()\n",
    "    print(f\"Label: {label}\")"
   ]
  },
  {
   "cell_type": "markdown",
   "id": "ruled-offering",
   "metadata": {},
   "source": [
    "# Select threes and add noise"
   ]
  },
  {
   "cell_type": "code",
   "execution_count": 10,
   "id": "endangered-vatican",
   "metadata": {},
   "outputs": [],
   "source": [
    "## Select the threes\n",
    "def add_noise(label, n=5, m=100, verbose=False):\n",
    "    '''label is one of 0,1,2,3,4,5,6,7,8,9;\n",
    "    n is the number of original images; \n",
    "    m is the number of noisy samples per original image;\n",
    "    may want to make the 2.5 definition of the radius into a hyperparameter\n",
    "    '''\n",
    "    \n",
    "    # Get a selection of data with the same label, crop it to size n\n",
    "    selection = train_features[train_labels == label]\n",
    "    selection = selection[:n]\n",
    "    assert selection.shape[0] == n, \"Too few of this label; take another batch\"\n",
    "    if verbose:\n",
    "        plt.imshow(selection[2].squeeze(), cmap=\"gray\")\n",
    "        plt.show()\n",
    "    \n",
    "    radii = shortest_distances(selection)\n",
    "    print(radii)\n",
    "    noise = torch.tensor(generate_noise(m,r=1,d=28*28)).reshape(m,1,28,28)\n",
    "    print(noise.flatten(1).max(), noise.flatten(1).min() )\n",
    "    \n",
    "    noisy_samples = torch.Tensor(torch.Size([int(n*m), 1, 28, 28]))\n",
    "    noisy_labels = torch.Tensor(torch.Size([n*m, n]))\n",
    "    for i in range(n):\n",
    "        radius = radii[i]/2\n",
    "        assert radius > 1e-6, \"some samples are too close together\"\n",
    "        for j in range(m):\n",
    "            noisy_samples[i*m + j]= selection[i] + radius*noise[j]   \n",
    "            noisy_labels[i*m + j]=  torch.eye(n)[i]\n",
    "    \n",
    "    if verbose:\n",
    "        plt.imshow(selection[0][0], cmap=\"gray\")\n",
    "        plt.show()\n",
    "        plt.imshow(noisy_samples[0][0], cmap=\"gray\")\n",
    "        plt.show()\n",
    "        plt.imshow(noisy_samples[1][0], cmap=\"gray\")\n",
    "        \n",
    "    # Need to add shuffle\n",
    "    \n",
    "    return noisy_samples, noisy_labels\n",
    "\n",
    "# Alternative for the labels:\n",
    "# torch.eye(n).repeat_interleave(m, dim=0)"
   ]
  },
  {
   "cell_type": "code",
   "execution_count": 11,
   "id": "southeast-telephone",
   "metadata": {},
   "outputs": [],
   "source": [
    "if False:\n",
    "    print('Enter the number of original images:')\n",
    "    num_samples = input()\n",
    "\n",
    "    print('Enter the number of noisy copies of each:')\n",
    "    m_copies = input()"
   ]
  },
  {
   "cell_type": "code",
   "execution_count": 12,
   "id": "spiritual-meditation",
   "metadata": {},
   "outputs": [
    {
     "name": "stdout",
     "output_type": "stream",
     "text": [
      "[8.137116432189941, 10.164294242858887, 8.137116432189941]\n",
      "tensor(0.1265, dtype=torch.float64) tensor(-0.1276, dtype=torch.float64)\n",
      "torch.Size([30, 1, 28, 28]) torch.Size([30, 3])\n"
     ]
    }
   ],
   "source": [
    "num_samples = 3\n",
    "m_copies = 10\n",
    "\n",
    "noisy_threes, noisy_labels = add_noise(label=3, n=int(num_samples), m=int(m_copies), verbose =False)\n",
    "print(noisy_threes.shape, noisy_labels.shape)"
   ]
  },
  {
   "cell_type": "code",
   "execution_count": 13,
   "id": "juvenile-disaster",
   "metadata": {},
   "outputs": [],
   "source": [
    "noisy_threes_flat = noisy_threes.flatten(1)"
   ]
  },
  {
   "cell_type": "code",
   "execution_count": 14,
   "id": "dimensional-attendance",
   "metadata": {},
   "outputs": [
    {
     "data": {
      "text/plain": [
       "(tensor(1.5938), tensor(-0.6482))"
      ]
     },
     "execution_count": 14,
     "metadata": {},
     "output_type": "execute_result"
    }
   ],
   "source": [
    "noisy_threes_flat.max() , noisy_threes_flat.min()"
   ]
  },
  {
   "cell_type": "markdown",
   "id": "threaded-october",
   "metadata": {},
   "source": [
    "# Train radnet with the noise"
   ]
  },
  {
   "cell_type": "code",
   "execution_count": 15,
   "id": "nonprofit-individual",
   "metadata": {},
   "outputs": [],
   "source": [
    "d=28*28\n",
    "dim_vector = [d, d+1, d+2, d+3,num_samples]\n",
    "\n",
    "# torch.sigmoid\n",
    "\n",
    "radnet = RadNet(eta=stepReLU_eta, dims=dim_vector, has_bias=False)"
   ]
  },
  {
   "cell_type": "code",
   "execution_count": 16,
   "id": "sapphire-chassis",
   "metadata": {},
   "outputs": [],
   "source": [
    "if False:\n",
    "    radnet = RadNet(eta=stepReLU_eta, dims=dim_vector, has_bias=False).to(device)\n",
    "    \n",
    "    model_trained, model_losses = training_loop(\n",
    "    n_epochs = 2000, \n",
    "    learning_rate = 0.05,\n",
    "    model = radnet,\n",
    "    params = list(radnet.parameters()),\n",
    "    x_train = noisy_threes_flat.to(device),\n",
    "    y_train = noisy_labels.to(device),\n",
    "    verbose=True)\n"
   ]
  },
  {
   "cell_type": "code",
   "execution_count": 17,
   "id": "irish-rubber",
   "metadata": {},
   "outputs": [
    {
     "name": "stdout",
     "output_type": "stream",
     "text": [
      "Epoch 1, Loss 0.322344\n",
      "Epoch 500, Loss 0.000000\n",
      "Epoch 1000, Loss 0.000000\n",
      "Epoch 1500, Loss 0.000000\n",
      "Epoch 2000, Loss 0.000000\n"
     ]
    }
   ],
   "source": [
    "model_trained, model_losses = training_loop(\n",
    "    n_epochs = 2000, \n",
    "    learning_rate = 0.05,\n",
    "    model = radnet,\n",
    "    params = list(radnet.parameters()),\n",
    "    x_train = noisy_threes_flat,\n",
    "    y_train = noisy_labels,\n",
    "    verbose=True)\n",
    "\n"
   ]
  },
  {
   "cell_type": "markdown",
   "id": "right-discipline",
   "metadata": {},
   "source": [
    "Cross entropy loss stuff"
   ]
  },
  {
   "cell_type": "code",
   "execution_count": null,
   "id": "least-million",
   "metadata": {},
   "outputs": [],
   "source": []
  },
  {
   "cell_type": "code",
   "execution_count": 18,
   "id": "collaborative-wilderness",
   "metadata": {},
   "outputs": [],
   "source": [
    "def ce_training_loop(n_epochs, learning_rate, model, params, x_train, y_train, verbose=True):\n",
    "    losses = []\n",
    "    accuracies = []\n",
    "    y_classes = y_train.argmax(axis =1)\n",
    "    \n",
    "    for epoch in range(1, n_epochs + 1):\n",
    "        for p in params:\n",
    "            if p.grad is not None: \n",
    "                p.grad.zero_()\n",
    "        \n",
    "        y_pred = model(x_train)\n",
    "        pred_class = torch.argmax(y_pred, dim=1)\n",
    "        accuracy = torch.mean((pred_class == y_classes).to(float))\n",
    "        accuracies.append(accuracy)\n",
    "        \n",
    "        loss_function = torch.nn.CrossEntropyLoss()\n",
    "        loss = loss_function(y_pred, y_classes)\n",
    "        losses.append(loss)\n",
    "        loss.backward()\n",
    "        \n",
    "        with torch.no_grad(): \n",
    "            for p in params:\n",
    "                p -= learning_rate * p.grad\n",
    "                \n",
    "        if verbose:\n",
    "            if epoch ==1 or epoch % 500 == 0:\n",
    "                print('Epoch %d, Loss %f, Accuracy %f' % (epoch, float(loss), float(accuracy)))\n",
    "\n",
    "            \n",
    "    return model, losses, accuracies\n"
   ]
  },
  {
   "cell_type": "code",
   "execution_count": 19,
   "id": "british-trader",
   "metadata": {},
   "outputs": [],
   "source": [
    "radnet = RadNet(eta=stepReLU_eta, dims=dim_vector, has_bias=False)"
   ]
  },
  {
   "cell_type": "code",
   "execution_count": 20,
   "id": "compliant-boating",
   "metadata": {},
   "outputs": [
    {
     "name": "stdout",
     "output_type": "stream",
     "text": [
      "Epoch 1, Loss 1.091792, Accuracy 0.133333\n",
      "Epoch 500, Loss 0.000395, Accuracy 1.000000\n",
      "Epoch 1000, Loss 0.000163, Accuracy 1.000000\n"
     ]
    }
   ],
   "source": [
    "model_trained, model_losses , model_accuracies = ce_training_loop(\n",
    "    n_epochs = 1000, \n",
    "    learning_rate = 0.05,\n",
    "    model = radnet,\n",
    "    params = list(radnet.parameters()),\n",
    "    x_train = noisy_threes_flat,\n",
    "    y_train = noisy_labels,\n",
    "    verbose=True)\n"
   ]
  },
  {
   "cell_type": "code",
   "execution_count": null,
   "id": "green-mystery",
   "metadata": {},
   "outputs": [],
   "source": []
  },
  {
   "cell_type": "code",
   "execution_count": null,
   "id": "prompt-robertson",
   "metadata": {},
   "outputs": [],
   "source": []
  },
  {
   "cell_type": "code",
   "execution_count": null,
   "id": "fancy-library",
   "metadata": {},
   "outputs": [],
   "source": []
  },
  {
   "cell_type": "code",
   "execution_count": 21,
   "id": "advanced-share",
   "metadata": {},
   "outputs": [],
   "source": [
    "num_classes = 3\n",
    "loss = nn.CrossEntropyLoss()\n",
    "input = torch.randn(4, num_classes, requires_grad=True)\n",
    "target = torch.empty(4, dtype=torch.long).random_(num_classes)\n",
    "# target[k] is the index of the class of the k-th sample\n",
    "output = loss(input, target)"
   ]
  },
  {
   "cell_type": "code",
   "execution_count": 22,
   "id": "representative-extraction",
   "metadata": {},
   "outputs": [
    {
     "name": "stdout",
     "output_type": "stream",
     "text": [
      "tensor([[ 6.2942, -2.8373, -3.0682],\n",
      "        [ 6.5244, -3.1795, -2.9536],\n",
      "        [ 6.2014, -3.2207, -2.6157],\n",
      "        [ 6.2940, -3.1625, -2.7522],\n",
      "        [ 6.2184, -2.9116, -2.9704],\n",
      "        [ 6.5575, -3.1103, -3.0222],\n",
      "        [ 6.2379, -3.0356, -2.8065],\n",
      "        [ 6.0924, -3.1872, -2.4918],\n",
      "        [ 6.3255, -3.0138, -2.8894],\n",
      "        [ 6.4417, -3.3327, -2.7502],\n",
      "        [-2.1863,  7.1945, -5.0766],\n",
      "        [-1.8987,  6.7672, -4.9335],\n",
      "        [-2.3022,  6.7156, -4.5114],\n",
      "        [-2.1865,  6.7884, -4.6819]], grad_fn=<SliceBackward>) tensor([0, 0, 0, 0, 0, 0, 0, 0, 0, 0, 1, 1, 1, 1])\n"
     ]
    },
    {
     "data": {
      "text/plain": [
       "tensor(0.0002, grad_fn=<NllLossBackward>)"
      ]
     },
     "execution_count": 22,
     "metadata": {},
     "output_type": "execute_result"
    }
   ],
   "source": [
    "y_pred = radnet(noisy_threes_flat)[:14]\n",
    "print(y_pred, noisy_labels.argmax(axis = 1)[:14])\n",
    "loss(y_pred, noisy_labels.argmax(axis = 1)[:14])"
   ]
  },
  {
   "cell_type": "code",
   "execution_count": 23,
   "id": "educational-halifax",
   "metadata": {},
   "outputs": [
    {
     "data": {
      "text/plain": [
       "tensor([0, 0, 0, 0, 0, 0, 0, 0, 0, 0, 1, 1, 1, 1])"
      ]
     },
     "execution_count": 23,
     "metadata": {},
     "output_type": "execute_result"
    }
   ],
   "source": [
    "pred_class = torch.argmax(y_pred, dim=1)\n",
    "pred_class"
   ]
  },
  {
   "cell_type": "code",
   "execution_count": 24,
   "id": "harmful-magnet",
   "metadata": {},
   "outputs": [
    {
     "data": {
      "text/plain": [
       "tensor(1., dtype=torch.float64)"
      ]
     },
     "execution_count": 24,
     "metadata": {},
     "output_type": "execute_result"
    }
   ],
   "source": [
    "accuracy = torch.mean((pred_class == noisy_labels.argmax(axis=1)[:14]).to(float))\n",
    "accuracy"
   ]
  },
  {
   "cell_type": "code",
   "execution_count": 25,
   "id": "discrete-peoples",
   "metadata": {},
   "outputs": [
    {
     "data": {
      "text/plain": [
       "0.6428571428571429"
      ]
     },
     "execution_count": 25,
     "metadata": {},
     "output_type": "execute_result"
    }
   ],
   "source": [
    "9/14\n"
   ]
  },
  {
   "cell_type": "code",
   "execution_count": null,
   "id": "contemporary-chicken",
   "metadata": {},
   "outputs": [],
   "source": []
  },
  {
   "cell_type": "code",
   "execution_count": null,
   "id": "diverse-authority",
   "metadata": {},
   "outputs": [],
   "source": []
  },
  {
   "cell_type": "code",
   "execution_count": null,
   "id": "damaged-cyprus",
   "metadata": {},
   "outputs": [],
   "source": []
  },
  {
   "cell_type": "code",
   "execution_count": null,
   "id": "conscious-bundle",
   "metadata": {},
   "outputs": [],
   "source": []
  },
  {
   "cell_type": "code",
   "execution_count": 26,
   "id": "canadian-undergraduate",
   "metadata": {},
   "outputs": [],
   "source": [
    "# Example of target with class indices\n",
    "num_classes = 3\n",
    "loss = nn.CrossEntropyLoss()\n",
    "input = torch.randn(4, num_classes, requires_grad=True)\n",
    "target = torch.empty(4, dtype=torch.long).random_(num_classes)\n",
    "# target[k] is the index of the class of the k-th sample\n",
    "output = loss(input, target)"
   ]
  },
  {
   "cell_type": "code",
   "execution_count": 27,
   "id": "affecting-former",
   "metadata": {},
   "outputs": [
    {
     "data": {
      "text/plain": [
       "(tensor([[-0.4797,  0.5874,  0.0297],\n",
       "         [-1.1980,  0.3110, -0.6938],\n",
       "         [ 0.1830,  2.2177,  0.5553],\n",
       "         [ 0.3083, -0.3667, -0.6029]], requires_grad=True),\n",
       " tensor([2, 1, 1, 0]),\n",
       " tensor(0.6490, grad_fn=<NllLossBackward>))"
      ]
     },
     "execution_count": 27,
     "metadata": {},
     "output_type": "execute_result"
    }
   ],
   "source": [
    "input, target, output"
   ]
  },
  {
   "cell_type": "code",
   "execution_count": null,
   "id": "advisory-timber",
   "metadata": {},
   "outputs": [],
   "source": []
  },
  {
   "cell_type": "code",
   "execution_count": 28,
   "id": "quantitative-occurrence",
   "metadata": {},
   "outputs": [
    {
     "data": {
      "text/plain": [
       "(torch.Size([2, 3]), torch.Size([2, 3]))"
      ]
     },
     "execution_count": 28,
     "metadata": {},
     "output_type": "execute_result"
    }
   ],
   "source": [
    "x = torch.tensor([[1., 0., 0.], [0., 0., 1.]])\n",
    "y = torch.tensor([[13., 5., 12.], [28., 28., 33.]])\n",
    "x.shape, y.shape"
   ]
  },
  {
   "cell_type": "code",
   "execution_count": 29,
   "id": "growing-lightning",
   "metadata": {},
   "outputs": [
    {
     "data": {
      "text/plain": [
       "tensor([0, 2])"
      ]
     },
     "execution_count": 29,
     "metadata": {},
     "output_type": "execute_result"
    }
   ],
   "source": [
    "x_classes = torch.argmax(x, axis =1)\n",
    "x_classes"
   ]
  },
  {
   "cell_type": "code",
   "execution_count": null,
   "id": "covered-practice",
   "metadata": {
    "scrolled": true
   },
   "outputs": [],
   "source": []
  },
  {
   "cell_type": "code",
   "execution_count": 31,
   "id": "forward-freight",
   "metadata": {
    "scrolled": true
   },
   "outputs": [
    {
     "data": {
      "text/plain": [
       "tensor([0, 2])"
      ]
     },
     "execution_count": 31,
     "metadata": {},
     "output_type": "execute_result"
    }
   ],
   "source": [
    "x_classes = x.argmax(axis =1)\n",
    "x_classes"
   ]
  },
  {
   "cell_type": "code",
   "execution_count": null,
   "id": "indian-plaintiff",
   "metadata": {},
   "outputs": [],
   "source": []
  },
  {
   "cell_type": "code",
   "execution_count": null,
   "id": "indirect-qualification",
   "metadata": {},
   "outputs": [],
   "source": []
  },
  {
   "cell_type": "code",
   "execution_count": null,
   "id": "stainless-emperor",
   "metadata": {},
   "outputs": [],
   "source": []
  },
  {
   "cell_type": "code",
   "execution_count": null,
   "id": "individual-linux",
   "metadata": {},
   "outputs": [],
   "source": []
  },
  {
   "cell_type": "code",
   "execution_count": null,
   "id": "rough-thesis",
   "metadata": {},
   "outputs": [],
   "source": []
  },
  {
   "cell_type": "code",
   "execution_count": null,
   "id": "level-personal",
   "metadata": {},
   "outputs": [],
   "source": []
  },
  {
   "cell_type": "code",
   "execution_count": null,
   "id": "dimensional-manchester",
   "metadata": {},
   "outputs": [],
   "source": []
  },
  {
   "cell_type": "code",
   "execution_count": 32,
   "id": "color-sussex",
   "metadata": {},
   "outputs": [
    {
     "name": "stdout",
     "output_type": "stream",
     "text": [
      "tensor([1.0918e+00, 1.0092e+00, 9.3315e-01, 8.5890e-01, 7.8396e-01, 7.0749e-01,\n",
      "        6.3001e-01, 5.5320e-01, 4.7945e-01, 4.1117e-01, 3.5009e-01, 2.9700e-01,\n",
      "        2.5182e-01, 2.1391e-01, 1.8241e-01, 1.5635e-01, 1.3484e-01, 1.1706e-01,\n",
      "        1.0234e-01, 9.0084e-02, 7.9835e-02, 7.1211e-02, 6.3908e-02, 5.7684e-02,\n",
      "        5.2345e-02, 4.7736e-02, 4.3734e-02, 4.0238e-02, 3.7168e-02, 3.4457e-02,\n",
      "        3.2052e-02, 2.9908e-02, 2.7989e-02, 2.6264e-02, 2.4707e-02, 2.3297e-02,\n",
      "        2.2015e-02, 2.0847e-02, 1.9779e-02, 1.8799e-02, 1.7897e-02, 1.7066e-02,\n",
      "        1.6299e-02, 1.5587e-02, 1.4927e-02, 1.4312e-02, 1.3740e-02, 1.3205e-02,\n",
      "        1.2704e-02, 1.2236e-02, 1.1796e-02, 1.1382e-02, 1.0992e-02, 1.0625e-02,\n",
      "        1.0278e-02, 9.9508e-03, 9.6406e-03, 9.3468e-03, 9.0680e-03, 8.8033e-03,\n",
      "        8.5516e-03, 8.3121e-03, 8.0839e-03, 7.8664e-03, 7.6588e-03, 7.4605e-03,\n",
      "        7.2709e-03, 7.0896e-03, 6.9159e-03, 6.7495e-03, 6.5900e-03, 6.4369e-03,\n",
      "        6.2899e-03, 6.1486e-03, 6.0127e-03, 5.8821e-03, 5.7562e-03, 5.6350e-03,\n",
      "        5.5182e-03, 5.4056e-03, 5.2969e-03, 5.1920e-03, 5.0907e-03, 4.9927e-03,\n",
      "        4.8981e-03, 4.8065e-03, 4.7179e-03, 4.6321e-03, 4.5490e-03, 4.4685e-03,\n",
      "        4.3904e-03, 4.3147e-03, 4.2413e-03, 4.1701e-03, 4.1009e-03, 4.0337e-03,\n",
      "        3.9685e-03, 3.9050e-03, 3.8434e-03, 3.7834e-03, 3.7250e-03, 3.6683e-03,\n",
      "        3.6130e-03, 3.5592e-03, 3.5067e-03, 3.4557e-03, 3.4059e-03, 3.3574e-03,\n",
      "        3.3100e-03, 3.2639e-03, 3.2189e-03, 3.1749e-03, 3.1320e-03, 3.0902e-03,\n",
      "        3.0493e-03, 3.0093e-03, 2.9703e-03, 2.9321e-03, 2.8948e-03, 2.8584e-03,\n",
      "        2.8227e-03, 2.7879e-03, 2.7538e-03, 2.7204e-03, 2.6877e-03, 2.6557e-03,\n",
      "        2.6244e-03, 2.5937e-03, 2.5637e-03, 2.5343e-03, 2.5055e-03, 2.4772e-03,\n",
      "        2.4495e-03, 2.4224e-03, 2.3958e-03, 2.3697e-03, 2.3441e-03, 2.3190e-03,\n",
      "        2.2943e-03, 2.2701e-03, 2.2464e-03, 2.2231e-03, 2.2002e-03, 2.1778e-03,\n",
      "        2.1558e-03, 2.1341e-03, 2.1129e-03, 2.0920e-03, 2.0714e-03, 2.0513e-03,\n",
      "        2.0314e-03, 2.0119e-03, 1.9928e-03, 1.9740e-03, 1.9555e-03, 1.9372e-03,\n",
      "        1.9193e-03, 1.9017e-03, 1.8844e-03, 1.8673e-03, 1.8506e-03, 1.8341e-03,\n",
      "        1.8178e-03, 1.8018e-03, 1.7861e-03, 1.7706e-03, 1.7553e-03, 1.7403e-03,\n",
      "        1.7255e-03, 1.7109e-03, 1.6966e-03, 1.6824e-03, 1.6685e-03, 1.6547e-03,\n",
      "        1.6412e-03, 1.6279e-03, 1.6147e-03, 1.6018e-03, 1.5890e-03, 1.5765e-03,\n",
      "        1.5640e-03, 1.5518e-03, 1.5397e-03, 1.5278e-03, 1.5161e-03, 1.5045e-03,\n",
      "        1.4931e-03, 1.4819e-03, 1.4707e-03, 1.4598e-03, 1.4490e-03, 1.4383e-03,\n",
      "        1.4277e-03, 1.4173e-03, 1.4071e-03, 1.3970e-03, 1.3870e-03, 1.3771e-03,\n",
      "        1.3673e-03, 1.3577e-03, 1.3482e-03, 1.3388e-03, 1.3296e-03, 1.3204e-03,\n",
      "        1.3114e-03, 1.3024e-03, 1.2936e-03, 1.2849e-03, 1.2763e-03, 1.2678e-03,\n",
      "        1.2594e-03, 1.2511e-03, 1.2429e-03, 1.2347e-03, 1.2267e-03, 1.2188e-03,\n",
      "        1.2110e-03, 1.2032e-03, 1.1956e-03, 1.1880e-03, 1.1805e-03, 1.1731e-03,\n",
      "        1.1658e-03, 1.1585e-03, 1.1514e-03, 1.1443e-03, 1.1373e-03, 1.1304e-03,\n",
      "        1.1236e-03, 1.1168e-03, 1.1101e-03, 1.1035e-03, 1.0969e-03, 1.0904e-03,\n",
      "        1.0840e-03, 1.0777e-03, 1.0714e-03, 1.0652e-03, 1.0590e-03, 1.0529e-03,\n",
      "        1.0469e-03, 1.0409e-03, 1.0350e-03, 1.0292e-03, 1.0234e-03, 1.0177e-03,\n",
      "        1.0120e-03, 1.0064e-03, 1.0009e-03, 9.9536e-04, 9.8991e-04, 9.8450e-04,\n",
      "        9.7917e-04, 9.7387e-04, 9.6861e-04, 9.6345e-04, 9.5830e-04, 9.5321e-04,\n",
      "        9.4819e-04, 9.4318e-04, 9.3824e-04, 9.3334e-04, 9.2849e-04, 9.2368e-04,\n",
      "        9.1893e-04, 9.1421e-04, 9.0953e-04, 9.0492e-04, 9.0030e-04, 8.9577e-04,\n",
      "        8.9126e-04, 8.8680e-04, 8.8235e-04, 8.7798e-04, 8.7364e-04, 8.6933e-04,\n",
      "        8.6507e-04, 8.6082e-04, 8.5662e-04, 8.5247e-04, 8.4833e-04, 8.4425e-04,\n",
      "        8.4021e-04, 8.3619e-04, 8.3221e-04, 8.2826e-04, 8.2435e-04, 8.2046e-04,\n",
      "        8.1662e-04, 8.1282e-04, 8.0904e-04, 8.0527e-04, 8.0156e-04, 7.9786e-04,\n",
      "        7.9420e-04, 7.9059e-04, 7.8698e-04, 7.8341e-04, 7.7988e-04, 7.7636e-04,\n",
      "        7.7287e-04, 7.6941e-04, 7.6600e-04, 7.6261e-04, 7.5924e-04, 7.5589e-04,\n",
      "        7.5257e-04, 7.4928e-04, 7.4601e-04, 7.4276e-04, 7.3955e-04, 7.3634e-04,\n",
      "        7.3319e-04, 7.3005e-04, 7.2693e-04, 7.2384e-04, 7.2076e-04, 7.1772e-04,\n",
      "        7.1470e-04, 7.1171e-04, 7.0872e-04, 7.0577e-04, 7.0285e-04, 6.9992e-04,\n",
      "        6.9704e-04, 6.9418e-04, 6.9133e-04, 6.8851e-04, 6.8571e-04, 6.8291e-04,\n",
      "        6.8015e-04, 6.7741e-04, 6.7469e-04, 6.7199e-04, 6.6929e-04, 6.6664e-04,\n",
      "        6.6399e-04, 6.6137e-04, 6.5877e-04, 6.5619e-04, 6.5359e-04, 6.5106e-04,\n",
      "        6.4852e-04, 6.4601e-04, 6.4351e-04, 6.4102e-04, 6.3857e-04, 6.3612e-04,\n",
      "        6.3368e-04, 6.3128e-04, 6.2887e-04, 6.2649e-04, 6.2413e-04, 6.2178e-04,\n",
      "        6.1945e-04, 6.1714e-04, 6.1483e-04, 6.1255e-04, 6.1028e-04, 6.0802e-04,\n",
      "        6.0580e-04, 6.0356e-04, 6.0134e-04, 5.9914e-04, 5.9696e-04, 5.9483e-04,\n",
      "        5.9266e-04, 5.9051e-04, 5.8839e-04, 5.8629e-04, 5.8418e-04, 5.8210e-04,\n",
      "        5.8003e-04, 5.7797e-04, 5.7594e-04, 5.7389e-04, 5.7189e-04, 5.6989e-04,\n",
      "        5.6789e-04, 5.6592e-04, 5.6394e-04, 5.6198e-04, 5.6006e-04, 5.5813e-04,\n",
      "        5.5620e-04, 5.5430e-04, 5.5241e-04, 5.5050e-04, 5.4866e-04, 5.4680e-04,\n",
      "        5.4494e-04, 5.4310e-04, 5.4128e-04, 5.3948e-04, 5.3766e-04, 5.3588e-04,\n",
      "        5.3409e-04, 5.3232e-04, 5.3055e-04, 5.2880e-04, 5.2706e-04, 5.2534e-04,\n",
      "        5.2361e-04, 5.2191e-04, 5.2020e-04, 5.1854e-04, 5.1685e-04, 5.1518e-04,\n",
      "        5.1352e-04, 5.1186e-04, 5.1024e-04, 5.0861e-04, 5.0700e-04, 5.0539e-04,\n",
      "        5.0377e-04, 5.0217e-04, 5.0060e-04, 4.9902e-04, 4.9747e-04, 4.9589e-04,\n",
      "        4.9436e-04, 4.9282e-04, 4.9128e-04, 4.8977e-04, 4.8823e-04, 4.8674e-04,\n",
      "        4.8525e-04, 4.8375e-04, 4.8228e-04, 4.8081e-04, 4.7935e-04, 4.7789e-04,\n",
      "        4.7643e-04, 4.7500e-04, 4.7357e-04, 4.7215e-04, 4.7072e-04, 4.6933e-04,\n",
      "        4.6792e-04, 4.6652e-04, 4.6515e-04, 4.6376e-04, 4.6239e-04, 4.6104e-04,\n",
      "        4.5966e-04, 4.5831e-04, 4.5698e-04, 4.5564e-04, 4.5432e-04, 4.5299e-04,\n",
      "        4.5170e-04, 4.5038e-04, 4.4907e-04, 4.4779e-04, 4.4651e-04, 4.4524e-04,\n",
      "        4.4394e-04, 4.4269e-04, 4.4143e-04, 4.4018e-04, 4.3891e-04, 4.3769e-04,\n",
      "        4.3644e-04, 4.3523e-04, 4.3400e-04, 4.3279e-04, 4.3158e-04, 4.3038e-04,\n",
      "        4.2916e-04, 4.2797e-04, 4.2681e-04, 4.2563e-04, 4.2446e-04, 4.2330e-04,\n",
      "        4.2213e-04, 4.2097e-04, 4.1982e-04, 4.1868e-04, 4.1754e-04, 4.1640e-04,\n",
      "        4.1528e-04, 4.1416e-04, 4.1307e-04, 4.1192e-04, 4.1082e-04, 4.0973e-04,\n",
      "        4.0863e-04, 4.0753e-04, 4.0647e-04, 4.0540e-04, 4.0430e-04, 4.0325e-04,\n",
      "        4.0218e-04, 4.0112e-04, 4.0006e-04, 3.9903e-04, 3.9799e-04, 3.9693e-04,\n",
      "        3.9589e-04, 3.9488e-04, 3.9385e-04, 3.9285e-04, 3.9182e-04, 3.9081e-04,\n",
      "        3.8980e-04, 3.8880e-04, 3.8781e-04, 3.8681e-04, 3.8584e-04, 3.8486e-04,\n",
      "        3.8388e-04, 3.8292e-04, 3.8193e-04, 3.8099e-04, 3.8002e-04, 3.7906e-04,\n",
      "        3.7812e-04, 3.7718e-04, 3.7622e-04, 3.7528e-04, 3.7436e-04, 3.7344e-04,\n",
      "        3.7251e-04, 3.7158e-04, 3.7067e-04, 3.6975e-04, 3.6885e-04, 3.6794e-04,\n",
      "        3.6704e-04, 3.6616e-04, 3.6525e-04, 3.6437e-04, 3.6349e-04, 3.6261e-04,\n",
      "        3.6171e-04, 3.6085e-04, 3.5999e-04, 3.5913e-04, 3.5826e-04, 3.5741e-04,\n",
      "        3.5654e-04, 3.5570e-04, 3.5485e-04, 3.5402e-04, 3.5318e-04, 3.5235e-04,\n",
      "        3.5152e-04, 3.5069e-04, 3.4984e-04, 3.4904e-04, 3.4822e-04, 3.4742e-04,\n",
      "        3.4659e-04, 3.4580e-04, 3.4499e-04, 3.4420e-04, 3.4340e-04, 3.4259e-04,\n",
      "        3.4179e-04, 3.4102e-04, 3.4023e-04, 3.3945e-04, 3.3868e-04, 3.3790e-04,\n",
      "        3.3713e-04, 3.3636e-04, 3.3560e-04, 3.3484e-04, 3.3408e-04, 3.3332e-04,\n",
      "        3.3259e-04, 3.3183e-04, 3.3110e-04, 3.3033e-04, 3.2960e-04, 3.2887e-04,\n",
      "        3.2812e-04, 3.2740e-04, 3.2667e-04, 3.2594e-04, 3.2523e-04, 3.2452e-04,\n",
      "        3.2380e-04, 3.2307e-04, 3.2237e-04, 3.2167e-04, 3.2095e-04, 3.2025e-04,\n",
      "        3.1956e-04, 3.1887e-04, 3.1817e-04, 3.1748e-04, 3.1680e-04, 3.1612e-04,\n",
      "        3.1543e-04, 3.1473e-04, 3.1408e-04, 3.1341e-04, 3.1273e-04, 3.1207e-04,\n",
      "        3.1139e-04, 3.1072e-04, 3.1008e-04, 3.0940e-04, 3.0876e-04, 3.0810e-04,\n",
      "        3.0745e-04, 3.0681e-04, 3.0615e-04, 3.0551e-04, 3.0487e-04, 3.0424e-04,\n",
      "        3.0360e-04, 3.0296e-04, 3.0233e-04, 3.0171e-04, 3.0107e-04, 3.0045e-04,\n",
      "        2.9981e-04, 2.9921e-04, 2.9859e-04, 2.9795e-04, 2.9737e-04, 2.9676e-04,\n",
      "        2.9614e-04, 2.9554e-04, 2.9493e-04, 2.9434e-04, 2.9373e-04, 2.9314e-04,\n",
      "        2.9254e-04, 2.9195e-04, 2.9135e-04, 2.9078e-04, 2.9019e-04, 2.8959e-04,\n",
      "        2.8903e-04, 2.8845e-04, 2.8787e-04, 2.8729e-04, 2.8673e-04, 2.8614e-04,\n",
      "        2.8558e-04, 2.8503e-04, 2.8444e-04, 2.8388e-04, 2.8333e-04, 2.8277e-04,\n",
      "        2.8220e-04, 2.8167e-04, 2.8109e-04, 2.8055e-04, 2.7999e-04, 2.7946e-04,\n",
      "        2.7890e-04, 2.7836e-04, 2.7782e-04, 2.7729e-04, 2.7675e-04, 2.7621e-04,\n",
      "        2.7569e-04, 2.7515e-04, 2.7462e-04, 2.7409e-04, 2.7357e-04, 2.7304e-04,\n",
      "        2.7252e-04, 2.7199e-04, 2.7148e-04, 2.7096e-04, 2.7045e-04, 2.6993e-04,\n",
      "        2.6944e-04, 2.6892e-04, 2.6840e-04, 2.6790e-04, 2.6739e-04, 2.6689e-04,\n",
      "        2.6639e-04, 2.6590e-04, 2.6538e-04, 2.6489e-04, 2.6441e-04, 2.6391e-04,\n",
      "        2.6343e-04, 2.6294e-04, 2.6244e-04, 2.6197e-04, 2.6148e-04, 2.6100e-04,\n",
      "        2.6050e-04, 2.6004e-04, 2.5957e-04, 2.5908e-04, 2.5861e-04, 2.5814e-04,\n",
      "        2.5764e-04, 2.5719e-04, 2.5674e-04, 2.5625e-04, 2.5579e-04, 2.5532e-04,\n",
      "        2.5487e-04, 2.5441e-04, 2.5394e-04, 2.5349e-04, 2.5304e-04, 2.5259e-04,\n",
      "        2.5213e-04, 2.5166e-04, 2.5122e-04, 2.5078e-04, 2.5032e-04, 2.4988e-04,\n",
      "        2.4944e-04, 2.4901e-04, 2.4856e-04, 2.4812e-04, 2.4768e-04, 2.4724e-04,\n",
      "        2.4682e-04, 2.4638e-04, 2.4594e-04, 2.4551e-04, 2.4507e-04, 2.4466e-04,\n",
      "        2.4422e-04, 2.4380e-04, 2.4339e-04, 2.4294e-04, 2.4253e-04, 2.4211e-04,\n",
      "        2.4168e-04, 2.4125e-04, 2.4083e-04, 2.4045e-04, 2.4002e-04, 2.3962e-04,\n",
      "        2.3917e-04, 2.3878e-04, 2.3839e-04, 2.3797e-04, 2.3757e-04, 2.3716e-04,\n",
      "        2.3674e-04, 2.3634e-04, 2.3597e-04, 2.3554e-04, 2.3515e-04, 2.3477e-04,\n",
      "        2.3438e-04, 2.3397e-04, 2.3357e-04, 2.3317e-04, 2.3278e-04, 2.3240e-04,\n",
      "        2.3201e-04, 2.3163e-04, 2.3124e-04, 2.3085e-04, 2.3047e-04, 2.3008e-04,\n",
      "        2.2969e-04, 2.2933e-04, 2.2894e-04, 2.2857e-04, 2.2819e-04, 2.2782e-04,\n",
      "        2.2745e-04, 2.2706e-04, 2.2668e-04, 2.2632e-04, 2.2597e-04, 2.2558e-04,\n",
      "        2.2522e-04, 2.2486e-04, 2.2447e-04, 2.2412e-04, 2.2375e-04, 2.2340e-04,\n",
      "        2.2303e-04, 2.2266e-04, 2.2229e-04, 2.2194e-04, 2.2159e-04, 2.2123e-04,\n",
      "        2.2086e-04, 2.2051e-04, 2.2015e-04, 2.1982e-04, 2.1947e-04, 2.1912e-04,\n",
      "        2.1877e-04, 2.1841e-04, 2.1807e-04, 2.1773e-04, 2.1738e-04, 2.1703e-04,\n",
      "        2.1669e-04, 2.1636e-04, 2.1602e-04, 2.1567e-04, 2.1534e-04, 2.1498e-04,\n",
      "        2.1466e-04, 2.1433e-04, 2.1398e-04, 2.1365e-04, 2.1332e-04, 2.1299e-04,\n",
      "        2.1265e-04, 2.1232e-04, 2.1199e-04, 2.1167e-04, 2.1134e-04, 2.1100e-04,\n",
      "        2.1066e-04, 2.1036e-04, 2.1002e-04, 2.0971e-04, 2.0938e-04, 2.0907e-04,\n",
      "        2.0874e-04, 2.0843e-04, 2.0812e-04, 2.0779e-04, 2.0748e-04, 2.0717e-04,\n",
      "        2.0684e-04, 2.0653e-04, 2.0622e-04, 2.0589e-04, 2.0559e-04, 2.0528e-04,\n",
      "        2.0497e-04, 2.0467e-04, 2.0437e-04, 2.0404e-04, 2.0375e-04, 2.0344e-04,\n",
      "        2.0313e-04, 2.0281e-04, 2.0251e-04, 2.0222e-04, 2.0191e-04, 2.0162e-04,\n",
      "        2.0132e-04, 2.0101e-04, 2.0072e-04, 2.0042e-04, 2.0013e-04, 1.9983e-04,\n",
      "        1.9954e-04, 1.9923e-04, 1.9895e-04, 1.9866e-04, 1.9838e-04, 1.9807e-04,\n",
      "        1.9778e-04, 1.9749e-04, 1.9721e-04, 1.9690e-04, 1.9663e-04, 1.9634e-04,\n",
      "        1.9605e-04, 1.9578e-04, 1.9548e-04, 1.9519e-04, 1.9492e-04, 1.9464e-04,\n",
      "        1.9436e-04, 1.9409e-04, 1.9381e-04, 1.9354e-04, 1.9323e-04, 1.9296e-04,\n",
      "        1.9268e-04, 1.9241e-04, 1.9214e-04, 1.9186e-04, 1.9158e-04, 1.9132e-04,\n",
      "        1.9104e-04, 1.9077e-04, 1.9050e-04, 1.9023e-04, 1.8997e-04, 1.8970e-04,\n",
      "        1.8941e-04, 1.8913e-04, 1.8888e-04, 1.8862e-04, 1.8837e-04, 1.8809e-04,\n",
      "        1.8782e-04, 1.8756e-04, 1.8731e-04, 1.8706e-04, 1.8678e-04, 1.8654e-04,\n",
      "        1.8625e-04, 1.8600e-04, 1.8575e-04, 1.8549e-04, 1.8522e-04, 1.8498e-04,\n",
      "        1.8472e-04, 1.8447e-04, 1.8419e-04, 1.8395e-04, 1.8370e-04, 1.8344e-04,\n",
      "        1.8321e-04, 1.8293e-04, 1.8268e-04, 1.8242e-04, 1.8219e-04, 1.8194e-04,\n",
      "        1.8169e-04, 1.8146e-04, 1.8120e-04, 1.8096e-04, 1.8070e-04, 1.8045e-04,\n",
      "        1.8020e-04, 1.7998e-04, 1.7973e-04, 1.7948e-04, 1.7924e-04, 1.7899e-04,\n",
      "        1.7876e-04, 1.7852e-04, 1.7829e-04, 1.7805e-04, 1.7780e-04, 1.7757e-04,\n",
      "        1.7732e-04, 1.7709e-04, 1.7685e-04, 1.7662e-04, 1.7640e-04, 1.7615e-04,\n",
      "        1.7591e-04, 1.7568e-04, 1.7545e-04, 1.7522e-04, 1.7497e-04, 1.7474e-04,\n",
      "        1.7453e-04, 1.7429e-04, 1.7406e-04, 1.7384e-04, 1.7360e-04, 1.7337e-04,\n",
      "        1.7317e-04, 1.7292e-04, 1.7271e-04, 1.7246e-04, 1.7223e-04, 1.7203e-04,\n",
      "        1.7181e-04, 1.7157e-04, 1.7136e-04, 1.7112e-04, 1.7090e-04, 1.7069e-04,\n",
      "        1.7046e-04, 1.7025e-04, 1.7003e-04, 1.6981e-04, 1.6959e-04, 1.6936e-04,\n",
      "        1.6915e-04, 1.6893e-04, 1.6871e-04, 1.6851e-04, 1.6828e-04, 1.6807e-04,\n",
      "        1.6786e-04, 1.6763e-04, 1.6743e-04, 1.6721e-04, 1.6700e-04, 1.6677e-04,\n",
      "        1.6658e-04, 1.6636e-04, 1.6615e-04, 1.6594e-04, 1.6574e-04, 1.6551e-04,\n",
      "        1.6532e-04, 1.6512e-04, 1.6490e-04, 1.6469e-04, 1.6449e-04, 1.6428e-04,\n",
      "        1.6408e-04, 1.6386e-04, 1.6365e-04, 1.6348e-04])\n"
     ]
    },
    {
     "data": {
      "image/png": "[encoded data removed]",
      "text/plain": [
       "<Figure size 432x288 with 1 Axes>"
      ]
     },
     "metadata": {
      "needs_background": "light"
     },
     "output_type": "display_data"
    }
   ],
   "source": [
    "print(torch.tensor(model_losses).detach())\n",
    "plt.plot(torch.tensor(model_losses).detach()[:20])\n",
    "plt.show()"
   ]
  },
  {
   "cell_type": "code",
   "execution_count": 33,
   "id": "naval-cedar",
   "metadata": {},
   "outputs": [
    {
     "name": "stdout",
     "output_type": "stream",
     "text": [
      "tensor([0.1333, 1.0000, 1.0000, 1.0000, 1.0000, 1.0000, 1.0000, 1.0000, 1.0000,\n",
      "        1.0000, 1.0000, 1.0000, 1.0000, 1.0000, 1.0000, 1.0000, 1.0000, 1.0000,\n",
      "        1.0000, 1.0000, 1.0000, 1.0000, 1.0000, 1.0000, 1.0000, 1.0000, 1.0000,\n",
      "        1.0000, 1.0000, 1.0000, 1.0000, 1.0000, 1.0000, 1.0000, 1.0000, 1.0000,\n",
      "        1.0000, 1.0000, 1.0000, 1.0000, 1.0000, 1.0000, 1.0000, 1.0000, 1.0000,\n",
      "        1.0000, 1.0000, 1.0000, 1.0000, 1.0000, 1.0000, 1.0000, 1.0000, 1.0000,\n",
      "        1.0000, 1.0000, 1.0000, 1.0000, 1.0000, 1.0000, 1.0000, 1.0000, 1.0000,\n",
      "        1.0000, 1.0000, 1.0000, 1.0000, 1.0000, 1.0000, 1.0000, 1.0000, 1.0000,\n",
      "        1.0000, 1.0000, 1.0000, 1.0000, 1.0000, 1.0000, 1.0000, 1.0000, 1.0000,\n",
      "        1.0000, 1.0000, 1.0000, 1.0000, 1.0000, 1.0000, 1.0000, 1.0000, 1.0000,\n",
      "        1.0000, 1.0000, 1.0000, 1.0000, 1.0000, 1.0000, 1.0000, 1.0000, 1.0000,\n",
      "        1.0000, 1.0000, 1.0000, 1.0000, 1.0000, 1.0000, 1.0000, 1.0000, 1.0000,\n",
      "        1.0000, 1.0000, 1.0000, 1.0000, 1.0000, 1.0000, 1.0000, 1.0000, 1.0000,\n",
      "        1.0000, 1.0000, 1.0000, 1.0000, 1.0000, 1.0000, 1.0000, 1.0000, 1.0000,\n",
      "        1.0000, 1.0000, 1.0000, 1.0000, 1.0000, 1.0000, 1.0000, 1.0000, 1.0000,\n",
      "        1.0000, 1.0000, 1.0000, 1.0000, 1.0000, 1.0000, 1.0000, 1.0000, 1.0000,\n",
      "        1.0000, 1.0000, 1.0000, 1.0000, 1.0000, 1.0000, 1.0000, 1.0000, 1.0000,\n",
      "        1.0000, 1.0000, 1.0000, 1.0000, 1.0000, 1.0000, 1.0000, 1.0000, 1.0000,\n",
      "        1.0000, 1.0000, 1.0000, 1.0000, 1.0000, 1.0000, 1.0000, 1.0000, 1.0000,\n",
      "        1.0000, 1.0000, 1.0000, 1.0000, 1.0000, 1.0000, 1.0000, 1.0000, 1.0000,\n",
      "        1.0000, 1.0000, 1.0000, 1.0000, 1.0000, 1.0000, 1.0000, 1.0000, 1.0000,\n",
      "        1.0000, 1.0000, 1.0000, 1.0000, 1.0000, 1.0000, 1.0000, 1.0000, 1.0000,\n",
      "        1.0000, 1.0000, 1.0000, 1.0000, 1.0000, 1.0000, 1.0000, 1.0000, 1.0000,\n",
      "        1.0000, 1.0000, 1.0000, 1.0000, 1.0000, 1.0000, 1.0000, 1.0000, 1.0000,\n",
      "        1.0000, 1.0000, 1.0000, 1.0000, 1.0000, 1.0000, 1.0000, 1.0000, 1.0000,\n",
      "        1.0000, 1.0000, 1.0000, 1.0000, 1.0000, 1.0000, 1.0000, 1.0000, 1.0000,\n",
      "        1.0000, 1.0000, 1.0000, 1.0000, 1.0000, 1.0000, 1.0000, 1.0000, 1.0000,\n",
      "        1.0000, 1.0000, 1.0000, 1.0000, 1.0000, 1.0000, 1.0000, 1.0000, 1.0000,\n",
      "        1.0000, 1.0000, 1.0000, 1.0000, 1.0000, 1.0000, 1.0000, 1.0000, 1.0000,\n",
      "        1.0000, 1.0000, 1.0000, 1.0000, 1.0000, 1.0000, 1.0000, 1.0000, 1.0000,\n",
      "        1.0000, 1.0000, 1.0000, 1.0000, 1.0000, 1.0000, 1.0000, 1.0000, 1.0000,\n",
      "        1.0000, 1.0000, 1.0000, 1.0000, 1.0000, 1.0000, 1.0000, 1.0000, 1.0000,\n",
      "        1.0000, 1.0000, 1.0000, 1.0000, 1.0000, 1.0000, 1.0000, 1.0000, 1.0000,\n",
      "        1.0000, 1.0000, 1.0000, 1.0000, 1.0000, 1.0000, 1.0000, 1.0000, 1.0000,\n",
      "        1.0000, 1.0000, 1.0000, 1.0000, 1.0000, 1.0000, 1.0000, 1.0000, 1.0000,\n",
      "        1.0000, 1.0000, 1.0000, 1.0000, 1.0000, 1.0000, 1.0000, 1.0000, 1.0000,\n",
      "        1.0000, 1.0000, 1.0000, 1.0000, 1.0000, 1.0000, 1.0000, 1.0000, 1.0000,\n",
      "        1.0000, 1.0000, 1.0000, 1.0000, 1.0000, 1.0000, 1.0000, 1.0000, 1.0000,\n",
      "        1.0000, 1.0000, 1.0000, 1.0000, 1.0000, 1.0000, 1.0000, 1.0000, 1.0000,\n",
      "        1.0000, 1.0000, 1.0000, 1.0000, 1.0000, 1.0000, 1.0000, 1.0000, 1.0000,\n",
      "        1.0000, 1.0000, 1.0000, 1.0000, 1.0000, 1.0000, 1.0000, 1.0000, 1.0000,\n",
      "        1.0000, 1.0000, 1.0000, 1.0000, 1.0000, 1.0000, 1.0000, 1.0000, 1.0000,\n",
      "        1.0000, 1.0000, 1.0000, 1.0000, 1.0000, 1.0000, 1.0000, 1.0000, 1.0000,\n",
      "        1.0000, 1.0000, 1.0000, 1.0000, 1.0000, 1.0000, 1.0000, 1.0000, 1.0000,\n",
      "        1.0000, 1.0000, 1.0000, 1.0000, 1.0000, 1.0000, 1.0000, 1.0000, 1.0000,\n",
      "        1.0000, 1.0000, 1.0000, 1.0000, 1.0000, 1.0000, 1.0000, 1.0000, 1.0000,\n",
      "        1.0000, 1.0000, 1.0000, 1.0000, 1.0000, 1.0000, 1.0000, 1.0000, 1.0000,\n",
      "        1.0000, 1.0000, 1.0000, 1.0000, 1.0000, 1.0000, 1.0000, 1.0000, 1.0000,\n",
      "        1.0000, 1.0000, 1.0000, 1.0000, 1.0000, 1.0000, 1.0000, 1.0000, 1.0000,\n",
      "        1.0000, 1.0000, 1.0000, 1.0000, 1.0000, 1.0000, 1.0000, 1.0000, 1.0000,\n",
      "        1.0000, 1.0000, 1.0000, 1.0000, 1.0000, 1.0000, 1.0000, 1.0000, 1.0000,\n",
      "        1.0000, 1.0000, 1.0000, 1.0000, 1.0000, 1.0000, 1.0000, 1.0000, 1.0000,\n",
      "        1.0000, 1.0000, 1.0000, 1.0000, 1.0000, 1.0000, 1.0000, 1.0000, 1.0000,\n",
      "        1.0000, 1.0000, 1.0000, 1.0000, 1.0000, 1.0000, 1.0000, 1.0000, 1.0000,\n",
      "        1.0000, 1.0000, 1.0000, 1.0000, 1.0000, 1.0000, 1.0000, 1.0000, 1.0000,\n",
      "        1.0000, 1.0000, 1.0000, 1.0000, 1.0000, 1.0000, 1.0000, 1.0000, 1.0000,\n",
      "        1.0000, 1.0000, 1.0000, 1.0000, 1.0000, 1.0000, 1.0000, 1.0000, 1.0000,\n",
      "        1.0000, 1.0000, 1.0000, 1.0000, 1.0000, 1.0000, 1.0000, 1.0000, 1.0000,\n",
      "        1.0000, 1.0000, 1.0000, 1.0000, 1.0000, 1.0000, 1.0000, 1.0000, 1.0000,\n",
      "        1.0000, 1.0000, 1.0000, 1.0000, 1.0000, 1.0000, 1.0000, 1.0000, 1.0000,\n",
      "        1.0000, 1.0000, 1.0000, 1.0000, 1.0000, 1.0000, 1.0000, 1.0000, 1.0000,\n",
      "        1.0000, 1.0000, 1.0000, 1.0000, 1.0000, 1.0000, 1.0000, 1.0000, 1.0000,\n",
      "        1.0000, 1.0000, 1.0000, 1.0000, 1.0000, 1.0000, 1.0000, 1.0000, 1.0000,\n",
      "        1.0000, 1.0000, 1.0000, 1.0000, 1.0000, 1.0000, 1.0000, 1.0000, 1.0000,\n",
      "        1.0000, 1.0000, 1.0000, 1.0000, 1.0000, 1.0000, 1.0000, 1.0000, 1.0000,\n",
      "        1.0000, 1.0000, 1.0000, 1.0000, 1.0000, 1.0000, 1.0000, 1.0000, 1.0000,\n",
      "        1.0000, 1.0000, 1.0000, 1.0000, 1.0000, 1.0000, 1.0000, 1.0000, 1.0000,\n",
      "        1.0000, 1.0000, 1.0000, 1.0000, 1.0000, 1.0000, 1.0000, 1.0000, 1.0000,\n",
      "        1.0000, 1.0000, 1.0000, 1.0000, 1.0000, 1.0000, 1.0000, 1.0000, 1.0000,\n",
      "        1.0000, 1.0000, 1.0000, 1.0000, 1.0000, 1.0000, 1.0000, 1.0000, 1.0000,\n",
      "        1.0000, 1.0000, 1.0000, 1.0000, 1.0000, 1.0000, 1.0000, 1.0000, 1.0000,\n",
      "        1.0000, 1.0000, 1.0000, 1.0000, 1.0000, 1.0000, 1.0000, 1.0000, 1.0000,\n",
      "        1.0000, 1.0000, 1.0000, 1.0000, 1.0000, 1.0000, 1.0000, 1.0000, 1.0000,\n",
      "        1.0000, 1.0000, 1.0000, 1.0000, 1.0000, 1.0000, 1.0000, 1.0000, 1.0000,\n",
      "        1.0000, 1.0000, 1.0000, 1.0000, 1.0000, 1.0000, 1.0000, 1.0000, 1.0000,\n",
      "        1.0000, 1.0000, 1.0000, 1.0000, 1.0000, 1.0000, 1.0000, 1.0000, 1.0000,\n",
      "        1.0000, 1.0000, 1.0000, 1.0000, 1.0000, 1.0000, 1.0000, 1.0000, 1.0000,\n",
      "        1.0000, 1.0000, 1.0000, 1.0000, 1.0000, 1.0000, 1.0000, 1.0000, 1.0000,\n",
      "        1.0000, 1.0000, 1.0000, 1.0000, 1.0000, 1.0000, 1.0000, 1.0000, 1.0000,\n",
      "        1.0000, 1.0000, 1.0000, 1.0000, 1.0000, 1.0000, 1.0000, 1.0000, 1.0000,\n",
      "        1.0000, 1.0000, 1.0000, 1.0000, 1.0000, 1.0000, 1.0000, 1.0000, 1.0000,\n",
      "        1.0000, 1.0000, 1.0000, 1.0000, 1.0000, 1.0000, 1.0000, 1.0000, 1.0000,\n",
      "        1.0000, 1.0000, 1.0000, 1.0000, 1.0000, 1.0000, 1.0000, 1.0000, 1.0000,\n",
      "        1.0000, 1.0000, 1.0000, 1.0000, 1.0000, 1.0000, 1.0000, 1.0000, 1.0000,\n",
      "        1.0000, 1.0000, 1.0000, 1.0000, 1.0000, 1.0000, 1.0000, 1.0000, 1.0000,\n",
      "        1.0000, 1.0000, 1.0000, 1.0000, 1.0000, 1.0000, 1.0000, 1.0000, 1.0000,\n",
      "        1.0000, 1.0000, 1.0000, 1.0000, 1.0000, 1.0000, 1.0000, 1.0000, 1.0000,\n",
      "        1.0000, 1.0000, 1.0000, 1.0000, 1.0000, 1.0000, 1.0000, 1.0000, 1.0000,\n",
      "        1.0000, 1.0000, 1.0000, 1.0000, 1.0000, 1.0000, 1.0000, 1.0000, 1.0000,\n",
      "        1.0000, 1.0000, 1.0000, 1.0000, 1.0000, 1.0000, 1.0000, 1.0000, 1.0000,\n",
      "        1.0000, 1.0000, 1.0000, 1.0000, 1.0000, 1.0000, 1.0000, 1.0000, 1.0000,\n",
      "        1.0000, 1.0000, 1.0000, 1.0000, 1.0000, 1.0000, 1.0000, 1.0000, 1.0000,\n",
      "        1.0000, 1.0000, 1.0000, 1.0000, 1.0000, 1.0000, 1.0000, 1.0000, 1.0000,\n",
      "        1.0000, 1.0000, 1.0000, 1.0000, 1.0000, 1.0000, 1.0000, 1.0000, 1.0000,\n",
      "        1.0000, 1.0000, 1.0000, 1.0000, 1.0000, 1.0000, 1.0000, 1.0000, 1.0000,\n",
      "        1.0000, 1.0000, 1.0000, 1.0000, 1.0000, 1.0000, 1.0000, 1.0000, 1.0000,\n",
      "        1.0000, 1.0000, 1.0000, 1.0000, 1.0000, 1.0000, 1.0000, 1.0000, 1.0000,\n",
      "        1.0000, 1.0000, 1.0000, 1.0000, 1.0000, 1.0000, 1.0000, 1.0000, 1.0000,\n",
      "        1.0000, 1.0000, 1.0000, 1.0000, 1.0000, 1.0000, 1.0000, 1.0000, 1.0000,\n",
      "        1.0000, 1.0000, 1.0000, 1.0000, 1.0000, 1.0000, 1.0000, 1.0000, 1.0000,\n",
      "        1.0000, 1.0000, 1.0000, 1.0000, 1.0000, 1.0000, 1.0000, 1.0000, 1.0000,\n",
      "        1.0000, 1.0000, 1.0000, 1.0000, 1.0000, 1.0000, 1.0000, 1.0000, 1.0000,\n",
      "        1.0000, 1.0000, 1.0000, 1.0000, 1.0000, 1.0000, 1.0000, 1.0000, 1.0000,\n",
      "        1.0000, 1.0000, 1.0000, 1.0000, 1.0000, 1.0000, 1.0000, 1.0000, 1.0000,\n",
      "        1.0000, 1.0000, 1.0000, 1.0000, 1.0000, 1.0000, 1.0000, 1.0000, 1.0000,\n",
      "        1.0000, 1.0000, 1.0000, 1.0000, 1.0000, 1.0000, 1.0000, 1.0000, 1.0000,\n",
      "        1.0000, 1.0000, 1.0000, 1.0000, 1.0000, 1.0000, 1.0000, 1.0000, 1.0000,\n",
      "        1.0000, 1.0000, 1.0000, 1.0000, 1.0000, 1.0000, 1.0000, 1.0000, 1.0000,\n",
      "        1.0000, 1.0000, 1.0000, 1.0000, 1.0000, 1.0000, 1.0000, 1.0000, 1.0000,\n",
      "        1.0000, 1.0000, 1.0000, 1.0000, 1.0000, 1.0000, 1.0000, 1.0000, 1.0000,\n",
      "        1.0000, 1.0000, 1.0000, 1.0000, 1.0000, 1.0000, 1.0000, 1.0000, 1.0000,\n",
      "        1.0000], dtype=torch.float64)\n"
     ]
    },
    {
     "data": {
      "image/png": "[encoded data removed]",
      "text/plain": [
       "<Figure size 432x288 with 1 Axes>"
      ]
     },
     "metadata": {
      "needs_background": "light"
     },
     "output_type": "display_data"
    }
   ],
   "source": [
    "print(torch.tensor(model_accuracies).detach())\n",
    "plt.plot(torch.tensor(model_accuracies).detach()[:20])\n",
    "plt.show()"
   ]
  },
  {
   "cell_type": "markdown",
   "id": "recorded-florist",
   "metadata": {},
   "source": [
    "# Train ReLU net with noise"
   ]
  },
  {
   "cell_type": "code",
   "execution_count": 37,
   "id": "medical-stage",
   "metadata": {},
   "outputs": [],
   "source": [
    "relu_net = torch.nn.Sequential(\n",
    "    torch.nn.Linear(28*28, dim_vector[1]),\n",
    "    torch.nn.ReLU(),\n",
    "    torch.nn.Linear(dim_vector[1], dim_vector[2]),\n",
    "    torch.nn.ReLU(),\n",
    "    torch.nn.Linear(dim_vector[2], dim_vector[3]),\n",
    "    torch.nn.ReLU(),\n",
    "    torch.nn.Linear(dim_vector[3],num_samples)\n",
    "    )"
   ]
  },
  {
   "cell_type": "code",
   "execution_count": 38,
   "id": "developing-visit",
   "metadata": {},
   "outputs": [
    {
     "name": "stdout",
     "output_type": "stream",
     "text": [
      "Epoch 1, Loss 1.100229, Accuracy 0.333333\n",
      "Epoch 500, Loss 0.000583, Accuracy 1.000000\n",
      "Epoch 1000, Loss 0.000230, Accuracy 1.000000\n"
     ]
    }
   ],
   "source": [
    "relu_model_trained, relu_model_losses, relu_model_accuracies = ce_training_loop(\n",
    "    n_epochs = 1000, \n",
    "    learning_rate = 0.05,\n",
    "    model = relu_net,\n",
    "    params = list(relu_net.parameters()),\n",
    "    x_train = noisy_threes_flat,\n",
    "    y_train = noisy_labels,\n",
    "    verbose=True)"
   ]
  },
  {
   "cell_type": "code",
   "execution_count": 39,
   "id": "heard-palestine",
   "metadata": {},
   "outputs": [
    {
     "data": {
      "text/plain": [
       "[<matplotlib.lines.Line2D at 0x7f8e6fcab8e0>]"
      ]
     },
     "execution_count": 39,
     "metadata": {},
     "output_type": "execute_result"
    },
    {
     "data": {
      "image/png": "[encoded data removed]",
      "text/plain": [
       "<Figure size 432x288 with 1 Axes>"
      ]
     },
     "metadata": {
      "needs_background": "light"
     },
     "output_type": "display_data"
    }
   ],
   "source": [
    "plt.plot(torch.tensor(relu_model_losses).detach()[:20])"
   ]
  },
  {
   "cell_type": "code",
   "execution_count": 40,
   "id": "changed-italic",
   "metadata": {},
   "outputs": [],
   "source": [
    "\n",
    "\n",
    "def train_both(num_samples, m_copies, dim_vector, label=3):\n",
    "    noisy_threes, noisy_labels = add_noise(label=3, n=int(num_samples), m=int(m_copies), verbose =False)\n",
    "    noisy_threes_flat = noisy_threes.flatten(1)\n",
    "    \n",
    "    print('')\n",
    "    print('### Data description')\n",
    "    print('number or original images =', num_samples)\n",
    "    print('number of copies of each =', m_copies)\n",
    "    print('dimension vector =', dim_vector)\n",
    "    print('')\n",
    "    \n",
    "    print('#### Training stepReLU radnet:')\n",
    "    radnet = RadNet(eta=stepReLU_eta, dims=dim_vector, has_bias=False)\n",
    "    model_trained, model_losses = training_loop(\n",
    "        n_epochs = 2000, \n",
    "        learning_rate = 0.05,\n",
    "        model = radnet,\n",
    "        params = list(radnet.parameters()),\n",
    "        x_train = noisy_threes_flat,\n",
    "        y_train = noisy_labels,\n",
    "        verbose=True)\n",
    "    \n",
    "    relu_net = torch.nn.Sequential(\n",
    "        torch.nn.Linear(28*28, dim_vector[1]),\n",
    "        torch.nn.ReLU(),\n",
    "        torch.nn.Linear(dim_vector[1], dim_vector[2]),\n",
    "        torch.nn.ReLU(),\n",
    "        torch.nn.Linear(dim_vector[2], dim_vector[3]),\n",
    "        torch.nn.ReLU(),\n",
    "        torch.nn.Linear(dim_vector[3],num_samples)\n",
    "        )\n",
    "    \n",
    "    print('')\n",
    "    print('#### Training ReLU MLP:')\n",
    "    \n",
    "    relu_model_trained, relu_model_losses = training_loop(\n",
    "        n_epochs = 2000, \n",
    "        learning_rate = 0.05,\n",
    "        model = relu_net,\n",
    "        params = list(relu_net.parameters()),\n",
    "        x_train = noisy_threes_flat,\n",
    "        y_train = noisy_labels,\n",
    "        verbose=True)\n",
    "    \n",
    "    return\n",
    "    "
   ]
  },
  {
   "cell_type": "code",
   "execution_count": 41,
   "id": "written-prefix",
   "metadata": {},
   "outputs": [
    {
     "name": "stdout",
     "output_type": "stream",
     "text": [
      "[8.137116432189941, 10.164294242858887, 8.137116432189941]\n",
      "tensor(0.1438, dtype=torch.float64) tensor(-0.1256, dtype=torch.float64)\n",
      "\n",
      "### Data description\n",
      "number or original images = 3\n",
      "number of copies of each = 10\n",
      "dimension vector = [784, 785, 786, 3]\n",
      "\n",
      "#### Training stepReLU radnet:\n",
      "Epoch 1, Loss 0.347070\n",
      "Epoch 500, Loss 0.000000\n",
      "Epoch 1000, Loss 0.000000\n",
      "Epoch 1500, Loss 0.000000\n",
      "Epoch 2000, Loss 0.000000\n",
      "\n",
      "#### Training ReLU MLP:\n",
      "Epoch 1, Loss 0.600010\n",
      "Epoch 500, Loss 0.001136\n",
      "Epoch 1000, Loss 0.000002\n",
      "Epoch 1500, Loss 0.000000\n",
      "Epoch 2000, Loss 0.000000\n"
     ]
    }
   ],
   "source": [
    "train_both(\n",
    "    num_samples = 3,\n",
    "    m_copies = 10,\n",
    "    dim_vector= [28*28, 28*28 + 1, 28*28 + 2, 3])"
   ]
  },
  {
   "cell_type": "code",
   "execution_count": 42,
   "id": "horizontal-bunny",
   "metadata": {},
   "outputs": [],
   "source": [
    "ns = [3]\n",
    "ms = [1000]\n",
    "d= 28*28\n",
    "dim_vec = [d, d+1, d+2, d+3, 3]\n",
    "\n",
    "# 10 runs for each, use seed for reproducibility\n",
    "\n",
    "# Desired metric: mean square error or accuracy (search pytorch metric accuracy)\n",
    "# Maybe use cross entropy instead of MSE"
   ]
  },
  {
   "cell_type": "code",
   "execution_count": null,
   "id": "developmental-luxury",
   "metadata": {},
   "outputs": [],
   "source": [
    "n = 3\n",
    "m=1000\n",
    "# test a bunch of different rates for each of radnet, relu MLP\n",
    "# the \"optimal\" learning rate for the radnet and relu could be different\n",
    "\n",
    "# Hyperparameter search for the learning rate\n",
    "\n",
    "# If the accuracy of both is the same, can look at the rate of convergence (eyeballing the plot) with optimized learning rate"
   ]
  },
  {
   "cell_type": "code",
   "execution_count": null,
   "id": "rocky-broadcasting",
   "metadata": {},
   "outputs": [],
   "source": [
    "# Generalization\n",
    "\n",
    "n = 3\n",
    "m=1000 + 1000\n",
    "\n",
    "# split training and test set, equal numbers of each\n",
    "\n",
    "# Use best learning rate for each radnet, relu MLP\n",
    "# Compare the test set loss and accuracy for each, \n"
   ]
  },
  {
   "cell_type": "code",
   "execution_count": null,
   "id": "intimate-montgomery",
   "metadata": {},
   "outputs": [],
   "source": [
    "ns = [3,4,5]\n",
    "ms = [100,500,1000,10000]\n",
    "d= 28*28\n",
    "dim_vecs = [\n",
    "    [d, d+1, d+2, d+3, 1],\n",
    "    [d, d+1, d+2, d+3, d+4, 1],\n",
    "    [d, d+1, d+2, d+3, d+4, d+5, 1]]\n",
    "\n",
    "# 12 combinations, and do 10 runs for each\n",
    "\n",
    "# Desired metric: mean square error or accuracy\n",
    "# Maybe use cross entropy instead of MSE"
   ]
  },
  {
   "cell_type": "markdown",
   "id": "variable-stranger",
   "metadata": {},
   "source": [
    "Change data set:\n",
    "\n",
    "* overlap circles\n",
    "* choose one sample from each MNIST label (0-9), or just 0,1,2,3\n",
    "\n"
   ]
  },
  {
   "cell_type": "markdown",
   "id": "pressing-dynamics",
   "metadata": {},
   "source": [
    "Change model:\n",
    "\n",
    "* if the models are tied, can make the problem harder by reducing the number of parameters (or doing the data set changes)\n"
   ]
  },
  {
   "cell_type": "markdown",
   "id": "chubby-vermont",
   "metadata": {},
   "source": []
  },
  {
   "cell_type": "code",
   "execution_count": null,
   "id": "related-secret",
   "metadata": {},
   "outputs": [],
   "source": [
    "\n",
    "\n",
    "\n",
    "if False:\n",
    "    for i in range(len(n)):\n",
    "        for m in ms:\n",
    "            train_both(\n",
    "                num_samples = n[i],\n",
    "                m_copies = m,\n",
    "                dim_vector= dims[i])\n",
    "            \n"
   ]
  },
  {
   "cell_type": "code",
   "execution_count": null,
   "id": "surface-beijing",
   "metadata": {},
   "outputs": [],
   "source": []
  },
  {
   "cell_type": "code",
   "execution_count": null,
   "id": "premier-arrangement",
   "metadata": {},
   "outputs": [],
   "source": []
  },
  {
   "cell_type": "code",
   "execution_count": null,
   "id": "adverse-death",
   "metadata": {},
   "outputs": [],
   "source": []
  },
  {
   "cell_type": "markdown",
   "id": "differential-jacket",
   "metadata": {},
   "source": [
    "# Network for learning all of MNIST"
   ]
  },
  {
   "cell_type": "code",
   "execution_count": null,
   "id": "organizational-sperm",
   "metadata": {},
   "outputs": [],
   "source": [
    "train_features_flat = train_features.flatten(1)\n",
    "train_features_flat.shape"
   ]
  },
  {
   "cell_type": "code",
   "execution_count": null,
   "id": "champion-lingerie",
   "metadata": {},
   "outputs": [],
   "source": [
    "train_labels.shape\n",
    "train_labels_onehot = F.one_hot(train_labels, num_classes=10)"
   ]
  },
  {
   "cell_type": "code",
   "execution_count": null,
   "id": "broad-boutique",
   "metadata": {},
   "outputs": [],
   "source": [
    "radnet = RadNet(eta=torch.sigmoid, dims=[28*28,28*28, 28 , 28,10], has_bias=False)"
   ]
  },
  {
   "cell_type": "code",
   "execution_count": null,
   "id": "greenhouse-ticket",
   "metadata": {},
   "outputs": [],
   "source": [
    "model_trained, model_losses = training_loop(\n",
    "    n_epochs = 3000, \n",
    "    learning_rate = 0.05,\n",
    "    model = radnet,\n",
    "    params = list(radnet.parameters()),\n",
    "    x_train = train_features_flat,\n",
    "    y_train = train_labels_onehot,\n",
    "    verbose=True)"
   ]
  },
  {
   "cell_type": "code",
   "execution_count": null,
   "id": "rubber-debut",
   "metadata": {},
   "outputs": [],
   "source": [
    "relu_net = torch.nn.Sequential(\n",
    "    torch.nn.Linear(28*28, 28*28),\n",
    "    torch.nn.ReLU(),\n",
    "    torch.nn.Linear(28*28, 28),\n",
    "    torch.nn.ReLU(),\n",
    "    torch.nn.Linear(28, 28),\n",
    "    torch.nn.ReLU(),\n",
    "    torch.nn.Linear(28, 10)\n",
    "    )"
   ]
  },
  {
   "cell_type": "code",
   "execution_count": null,
   "id": "progressive-qatar",
   "metadata": {},
   "outputs": [],
   "source": [
    "relu_model_trained, relu_model_losses = training_loop(\n",
    "    n_epochs = 3000, \n",
    "    learning_rate = 0.05,\n",
    "    model = relu_net,\n",
    "    params = list(relu_net.parameters()),\n",
    "    x_train = train_features_flat,\n",
    "    y_train = train_labels_onehot,\n",
    "    verbose=True)"
   ]
  },
  {
   "cell_type": "code",
   "execution_count": null,
   "id": "nasty-pendant",
   "metadata": {},
   "outputs": [],
   "source": []
  },
  {
   "cell_type": "code",
   "execution_count": null,
   "id": "harmful-royalty",
   "metadata": {},
   "outputs": [],
   "source": []
  },
  {
   "cell_type": "code",
   "execution_count": null,
   "id": "optical-exhaust",
   "metadata": {},
   "outputs": [],
   "source": []
  },
  {
   "cell_type": "code",
   "execution_count": null,
   "id": "bigger-deadline",
   "metadata": {},
   "outputs": [],
   "source": []
  },
  {
   "cell_type": "code",
   "execution_count": null,
   "id": "textile-adult",
   "metadata": {},
   "outputs": [],
   "source": []
  },
  {
   "cell_type": "code",
   "execution_count": null,
   "id": "social-raise",
   "metadata": {},
   "outputs": [],
   "source": []
  },
  {
   "cell_type": "code",
   "execution_count": null,
   "id": "union-recorder",
   "metadata": {},
   "outputs": [],
   "source": []
  },
  {
   "cell_type": "markdown",
   "id": "laughing-yesterday",
   "metadata": {},
   "source": [
    "# Scraps"
   ]
  },
  {
   "cell_type": "code",
   "execution_count": null,
   "id": "saved-expression",
   "metadata": {},
   "outputs": [],
   "source": []
  },
  {
   "cell_type": "code",
   "execution_count": null,
   "id": "rural-doubt",
   "metadata": {},
   "outputs": [],
   "source": [
    "# Calculate distances\n",
    "radius = float('inf')\n",
    "for i in range(n):\n",
    "    for j in range(i+1,n):\n",
    "        if torch.linalg.norm(threes[i] - threes[j]).item() < radius:\n",
    "            radius = torch.linalg.norm(threes[i] - threes[j]).item()\n",
    "radius = radius/2.5\n",
    "radius"
   ]
  },
  {
   "cell_type": "code",
   "execution_count": null,
   "id": "clean-occasions",
   "metadata": {},
   "outputs": [],
   "source": []
  },
  {
   "cell_type": "code",
   "execution_count": null,
   "id": "enhanced-saudi",
   "metadata": {},
   "outputs": [],
   "source": [
    "noisy_threes = torch.Tensor(torch.Size([int(n*m), 1, 28, 28]))\n",
    "noisy_labels = torch.Tensor(torch.Size([n*m, n]))\n",
    "for i in range(n):\n",
    "    for j in range(m):\n",
    "        noisy_threes[i*n + j]= threes[i] + noise[j]   \n",
    "        noisy_labels[i*m + j]=  torch.eye(n)[i]\n",
    "        \n"
   ]
  },
  {
   "cell_type": "markdown",
   "id": "indoor-shoot",
   "metadata": {},
   "source": [
    "if False:\n",
    "    print(noisy_threes.shape, noisy_labels.shape)\n",
    "if False:\n",
    "    plt.imshow(threes[0][0], cmap=\"gray\")\n",
    "    plt.show()\n",
    "    plt.imshow(noisy_threes[0][0], cmap=\"gray\")\n",
    "    plt.show()\n",
    "    plt.imshow(noisy_threes[1][0], cmap=\"gray\")"
   ]
  }
 ],
 "metadata": {
  "kernelspec": {
   "display_name": "Python 3",
   "language": "python",
   "name": "python3"
  },
  "language_info": {
   "codemirror_mode": {
    "name": "ipython",
    "version": 3
   },
   "file_extension": ".py",
   "mimetype": "text/x-python",
   "name": "python",
   "nbconvert_exporter": "python",
   "pygments_lexer": "ipython3",
   "version": "3.8.2"
  }
 },
 "nbformat": 4,
 "nbformat_minor": 5
}
