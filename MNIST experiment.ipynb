{
 "cells": [
  {
   "cell_type": "code",
   "execution_count": 1,
   "id": "advanced-proportion",
   "metadata": {},
   "outputs": [
    {
     "name": "stdout",
     "output_type": "stream",
     "text": [
      "Running on: cpu\n"
     ]
    }
   ],
   "source": [
    "import numpy as np\n",
    "from typing import List\n",
    "\n",
    "import torch\n",
    "import math\n",
    "import torch.nn as nn\n",
    "import torch.optim as optim\n",
    "import matplotlib.pyplot as plt\n",
    "import torch.nn.functional as F\n",
    "import argparse\n",
    "from tqdm import tqdm\n",
    "\n",
    "from torch.utils.data import Dataset\n",
    "from torch.utils.data import DataLoader\n",
    "from torchvision import datasets\n",
    "from torchvision.transforms import ToTensor\n",
    "\n",
    "from source import *"
   ]
  },
  {
   "cell_type": "markdown",
   "id": "saved-azerbaijan",
   "metadata": {},
   "source": [
    "# Set-up"
   ]
  },
  {
   "cell_type": "code",
   "execution_count": 2,
   "id": "medical-allocation",
   "metadata": {},
   "outputs": [],
   "source": [
    "# Step RelU\n",
    "# Version for the eta in the definition of a radial rescaling activation\n",
    "\n",
    "def stepReLU_eta(r):\n",
    "    if r.shape == torch.Size([]):\n",
    "        if r < 1:\n",
    "            return 1e-6\n",
    "        return r\n",
    "    else:\n",
    "        for i in range(len(r)):\n",
    "            if r[i] < 1:\n",
    "                r[i] = 1e-6\n",
    "        return r"
   ]
  },
  {
   "cell_type": "code",
   "execution_count": 3,
   "id": "opponent-asthma",
   "metadata": {},
   "outputs": [],
   "source": [
    "# Create uniform random noise in the unit d-ball\n",
    "def generate_noise(m, r, d=28*28):\n",
    "    '''m is the number of samples, r is the radius\n",
    "    d is the total dimension, which is 28*28 for MNIST'''\n",
    "    \n",
    "    u = np.random.multivariate_normal(np.zeros(d),np.eye(d),m)  # an array of d normally distributed random variables\n",
    "    norm=np.sum(u**2, axis = 1) **(0.5)\n",
    "    norm = norm.reshape(m,1)\n",
    "    rands = np.random.uniform(size=m)**(1.0/d)\n",
    "    rands = rands.reshape(m,1)\n",
    "    return r*rands*u/norm\n",
    "\n",
    "# Note: need to do the following before adding to a sample:\n",
    "# torch.tensor(generate_noise(m,radius,d)).reshape(m,1,28,28)"
   ]
  },
  {
   "cell_type": "code",
   "execution_count": 4,
   "id": "czech-mouth",
   "metadata": {},
   "outputs": [],
   "source": [
    "# Calculate distances\n",
    "def smallest_distance(x: torch.tensor) -> float:\n",
    "    radius = float('inf')\n",
    "    for i in range(len(x)):\n",
    "        for j in range(i):\n",
    "            if torch.linalg.norm(x[i] - x[j]).item() < radius:\n",
    "                radius = torch.linalg.norm(x[i] - x[j]).item()\n",
    "    return radius"
   ]
  },
  {
   "cell_type": "markdown",
   "id": "retired-finder",
   "metadata": {},
   "source": [
    "# Get MNIST"
   ]
  },
  {
   "cell_type": "code",
   "execution_count": 5,
   "id": "separated-roommate",
   "metadata": {},
   "outputs": [],
   "source": [
    "training_data = datasets.MNIST(\n",
    "    root=\"data\",\n",
    "    train=True,\n",
    "    download=True,\n",
    "    transform=ToTensor()\n",
    ")"
   ]
  },
  {
   "cell_type": "code",
   "execution_count": 6,
   "id": "animated-massage",
   "metadata": {},
   "outputs": [],
   "source": [
    "batch_size = 128\n",
    "train_dataloader = DataLoader(training_data, batch_size, shuffle=True)"
   ]
  },
  {
   "cell_type": "code",
   "execution_count": 7,
   "id": "decreased-police",
   "metadata": {},
   "outputs": [
    {
     "name": "stdout",
     "output_type": "stream",
     "text": [
      "Feature batch shape: torch.Size([128, 1, 28, 28])\n",
      "Labels batch shape: torch.Size([128])\n"
     ]
    }
   ],
   "source": [
    "train_features, train_labels = next(iter(train_dataloader))\n",
    "print(f\"Feature batch shape: {train_features.size()}\")\n",
    "print(f\"Labels batch shape: {train_labels.size()}\")\n",
    "\n",
    "if False:\n",
    "    img = train_features[0].squeeze()\n",
    "    label = train_labels[0]\n",
    "    plt.imshow(img, cmap=\"gray\")\n",
    "    plt.show()\n",
    "    print(f\"Label: {label}\")"
   ]
  },
  {
   "cell_type": "markdown",
   "id": "ruled-offering",
   "metadata": {},
   "source": [
    "# Select threes and add noise"
   ]
  },
  {
   "cell_type": "code",
   "execution_count": 8,
   "id": "endangered-vatican",
   "metadata": {},
   "outputs": [],
   "source": [
    "## Select the threes\n",
    "def add_noise(label, n=5, m=100, verbose=False):\n",
    "    '''label is one of 0,1,2,3,4,5,6,7,8,9;\n",
    "    n is the number of original images; \n",
    "    m is the number of noisy samples per original image;\n",
    "    may want to make the 2.5 definition of the radius into a hyperparameter\n",
    "    '''\n",
    "    \n",
    "    # Get a selection of data with the same label, crop it to size n\n",
    "    selection = train_features[train_labels == label]\n",
    "    selection = selection[:n]\n",
    "    assert selection.shape[0] == n, \"Too few of this label; take another batch\"\n",
    "    if verbose:\n",
    "        plt.imshow(selection[2].squeeze(), cmap=\"gray\")\n",
    "        plt.show()\n",
    "    \n",
    "    radius = smallest_distance(selection)/2.5\n",
    "    noise = torch.tensor(generate_noise(m,radius,d=28*28)).reshape(m,1,28,28)\n",
    "    \n",
    "    noisy_samples = torch.Tensor(torch.Size([int(n*m), 1, 28, 28]))\n",
    "    noisy_labels = torch.Tensor(torch.Size([n*m, n]))\n",
    "    for i in range(n):\n",
    "        for j in range(m):\n",
    "            noisy_samples[i*n + j]= selection[i] + noise[j]   \n",
    "            noisy_labels[i*m + j]=  torch.eye(n)[i]\n",
    "    \n",
    "    if verbose:\n",
    "        plt.imshow(selection[0][0], cmap=\"gray\")\n",
    "        plt.show()\n",
    "        plt.imshow(noisy_samples[0][0], cmap=\"gray\")\n",
    "        plt.show()\n",
    "        plt.imshow(noisy_samples[1][0], cmap=\"gray\")\n",
    "    \n",
    "    return noisy_samples, noisy_labels\n",
    "\n",
    "# Alternative for the labels:\n",
    "# torch.eye(n).repeat_interleave(m, dim=0)"
   ]
  },
  {
   "cell_type": "code",
   "execution_count": 9,
   "id": "southeast-telephone",
   "metadata": {},
   "outputs": [
    {
     "name": "stdout",
     "output_type": "stream",
     "text": [
      "Enter the number of original images:\n",
      "5\n",
      "Enter the number of noisy copies of each:\n",
      "5\n"
     ]
    }
   ],
   "source": [
    "print('Enter the number of original images:')\n",
    "num_samples = input()\n",
    "\n",
    "print('Enter the number of noisy copies of each:')\n",
    "m_copies = input()"
   ]
  },
  {
   "cell_type": "code",
   "execution_count": 10,
   "id": "spiritual-meditation",
   "metadata": {},
   "outputs": [
    {
     "name": "stdout",
     "output_type": "stream",
     "text": [
      "torch.Size([25, 1, 28, 28]) torch.Size([25, 5])\n"
     ]
    }
   ],
   "source": [
    "noisy_threes, noisy_labels = add_noise(label=3, n=int(num_samples), m=int(m_copies), verbose =False)\n",
    "print(noisy_threes.shape, noisy_labels.shape)"
   ]
  },
  {
   "cell_type": "code",
   "execution_count": 11,
   "id": "juvenile-disaster",
   "metadata": {},
   "outputs": [],
   "source": [
    "noisy_threes_flat = noisy_threes.flatten(1)"
   ]
  },
  {
   "cell_type": "markdown",
   "id": "threaded-october",
   "metadata": {},
   "source": [
    "# Train with the noise"
   ]
  },
  {
   "cell_type": "code",
   "execution_count": 12,
   "id": "nonprofit-individual",
   "metadata": {},
   "outputs": [],
   "source": [
    "d=28*28\n",
    "dim_vector = [d, d+1, d+2, d+3,1]\n",
    "\n",
    "radnet = RadNet(eta=torch.sigmoid, dims=dim_vector, has_bias=False)"
   ]
  },
  {
   "cell_type": "code",
   "execution_count": 13,
   "id": "irish-rubber",
   "metadata": {},
   "outputs": [
    {
     "name": "stdout",
     "output_type": "stream",
     "text": [
      "Epoch 1, Loss 0.197939\n",
      "Epoch 500, Loss 0.160002\n",
      "Epoch 1000, Loss 0.160001\n",
      "Epoch 1500, Loss 0.160001\n",
      "Epoch 2000, Loss 0.160000\n"
     ]
    }
   ],
   "source": [
    "model_trained, model_losses = training_loop(\n",
    "    n_epochs = 2000, \n",
    "    learning_rate = 0.05,\n",
    "    model = radnet,\n",
    "    params = list(radnet.parameters()),\n",
    "    x_train = noisy_threes_flat,\n",
    "    y_train = noisy_labels,\n",
    "    verbose=True)"
   ]
  },
  {
   "cell_type": "markdown",
   "id": "recorded-florist",
   "metadata": {},
   "source": [
    "# Train baseline"
   ]
  },
  {
   "cell_type": "code",
   "execution_count": 14,
   "id": "medical-stage",
   "metadata": {},
   "outputs": [
    {
     "name": "stdout",
     "output_type": "stream",
     "text": [
      "Sequential(\n",
      "  (0): Linear(in_features=784, out_features=785, bias=True)\n",
      "  (1): ReLU()\n",
      "  (2): Linear(in_features=785, out_features=786, bias=True)\n",
      "  (3): ReLU()\n",
      "  (4): Linear(in_features=786, out_features=787, bias=True)\n",
      "  (5): ReLU()\n",
      "  (6): Linear(in_features=787, out_features=1, bias=True)\n",
      ")\n"
     ]
    }
   ],
   "source": [
    "relu_net = torch.nn.Sequential(\n",
    "    torch.nn.Linear(28*28, dim_vector[1]),\n",
    "    torch.nn.ReLU(),\n",
    "    torch.nn.Linear(dim_vector[1], dim_vector[2]),\n",
    "    torch.nn.ReLU(),\n",
    "    torch.nn.Linear(dim_vector[2], dim_vector[3]),\n",
    "    torch.nn.ReLU(),\n",
    "    torch.nn.Linear(dim_vector[3],1)\n",
    "    )\n",
    "print(relu_net)"
   ]
  },
  {
   "cell_type": "code",
   "execution_count": 15,
   "id": "developing-visit",
   "metadata": {},
   "outputs": [
    {
     "name": "stdout",
     "output_type": "stream",
     "text": [
      "Epoch 1, Loss 0.187763\n",
      "Epoch 500, Loss 0.160002\n",
      "Epoch 1000, Loss 0.160001\n",
      "Epoch 1500, Loss 0.160000\n",
      "Epoch 2000, Loss 0.160000\n"
     ]
    }
   ],
   "source": [
    "relu_model_trained, relu_model_losses = training_loop(\n",
    "    n_epochs = 2000, \n",
    "    learning_rate = 0.05,\n",
    "    model = relu_net,\n",
    "    params = list(relu_net.parameters()),\n",
    "    x_train = noisy_threes_flat,\n",
    "    y_train = noisy_labels,\n",
    "    verbose=True)"
   ]
  },
  {
   "cell_type": "code",
   "execution_count": null,
   "id": "changed-italic",
   "metadata": {},
   "outputs": [],
   "source": []
  },
  {
   "cell_type": "code",
   "execution_count": null,
   "id": "surface-beijing",
   "metadata": {},
   "outputs": [],
   "source": []
  },
  {
   "cell_type": "code",
   "execution_count": null,
   "id": "premier-arrangement",
   "metadata": {},
   "outputs": [],
   "source": []
  },
  {
   "cell_type": "code",
   "execution_count": null,
   "id": "adverse-death",
   "metadata": {},
   "outputs": [],
   "source": []
  },
  {
   "cell_type": "markdown",
   "id": "differential-jacket",
   "metadata": {},
   "source": [
    "# Network for learning all of MNIST"
   ]
  },
  {
   "cell_type": "code",
   "execution_count": 16,
   "id": "organizational-sperm",
   "metadata": {},
   "outputs": [
    {
     "data": {
      "text/plain": [
       "torch.Size([128, 784])"
      ]
     },
     "execution_count": 16,
     "metadata": {},
     "output_type": "execute_result"
    }
   ],
   "source": [
    "train_features_flat = train_features.flatten(1)\n",
    "train_features_flat.shape"
   ]
  },
  {
   "cell_type": "code",
   "execution_count": 17,
   "id": "broad-boutique",
   "metadata": {},
   "outputs": [],
   "source": [
    "radnet = RadNet(eta=torch.sigmoid, dims=[28*28,28*28, 28 , 28,1], has_bias=False)"
   ]
  },
  {
   "cell_type": "code",
   "execution_count": 18,
   "id": "greenhouse-ticket",
   "metadata": {},
   "outputs": [
    {
     "name": "stdout",
     "output_type": "stream",
     "text": [
      "Epoch 1, Loss 27.101681\n",
      "Epoch 500, Loss 8.545847\n",
      "Epoch 1000, Loss 8.545847\n",
      "Epoch 1500, Loss 8.545846\n",
      "Epoch 2000, Loss 8.545847\n",
      "Epoch 2500, Loss 8.545847\n",
      "Epoch 3000, Loss 8.545846\n"
     ]
    }
   ],
   "source": [
    "model_trained, model_losses = training_loop(\n",
    "    n_epochs = 3000, \n",
    "    learning_rate = 0.05,\n",
    "    model = radnet,\n",
    "    params = list(radnet.parameters()),\n",
    "    x_train = train_features_flat,\n",
    "    y_train = train_labels,\n",
    "    verbose=True)"
   ]
  },
  {
   "cell_type": "code",
   "execution_count": null,
   "id": "rubber-debut",
   "metadata": {},
   "outputs": [],
   "source": []
  },
  {
   "cell_type": "code",
   "execution_count": null,
   "id": "progressive-qatar",
   "metadata": {},
   "outputs": [],
   "source": []
  },
  {
   "cell_type": "code",
   "execution_count": null,
   "id": "nasty-pendant",
   "metadata": {},
   "outputs": [],
   "source": []
  },
  {
   "cell_type": "code",
   "execution_count": null,
   "id": "harmful-royalty",
   "metadata": {},
   "outputs": [],
   "source": []
  },
  {
   "cell_type": "code",
   "execution_count": null,
   "id": "optical-exhaust",
   "metadata": {},
   "outputs": [],
   "source": []
  },
  {
   "cell_type": "code",
   "execution_count": null,
   "id": "bigger-deadline",
   "metadata": {},
   "outputs": [],
   "source": []
  },
  {
   "cell_type": "code",
   "execution_count": null,
   "id": "textile-adult",
   "metadata": {},
   "outputs": [],
   "source": []
  },
  {
   "cell_type": "code",
   "execution_count": null,
   "id": "social-raise",
   "metadata": {},
   "outputs": [],
   "source": []
  },
  {
   "cell_type": "code",
   "execution_count": null,
   "id": "union-recorder",
   "metadata": {},
   "outputs": [],
   "source": []
  },
  {
   "cell_type": "markdown",
   "id": "laughing-yesterday",
   "metadata": {},
   "source": [
    "# Scraps"
   ]
  },
  {
   "cell_type": "code",
   "execution_count": null,
   "id": "saved-expression",
   "metadata": {},
   "outputs": [],
   "source": []
  },
  {
   "cell_type": "code",
   "execution_count": 19,
   "id": "rural-doubt",
   "metadata": {},
   "outputs": [
    {
     "ename": "NameError",
     "evalue": "name 'n' is not defined",
     "output_type": "error",
     "traceback": [
      "\u001b[0;31m---------------------------------------------------------------------------\u001b[0m",
      "\u001b[0;31mNameError\u001b[0m                                 Traceback (most recent call last)",
      "\u001b[0;32m<ipython-input-19-ec0c2471fc63>\u001b[0m in \u001b[0;36m<module>\u001b[0;34m\u001b[0m\n\u001b[1;32m      1\u001b[0m \u001b[0;31m# Calculate distances\u001b[0m\u001b[0;34m\u001b[0m\u001b[0;34m\u001b[0m\u001b[0;34m\u001b[0m\u001b[0m\n\u001b[1;32m      2\u001b[0m \u001b[0mradius\u001b[0m \u001b[0;34m=\u001b[0m \u001b[0mfloat\u001b[0m\u001b[0;34m(\u001b[0m\u001b[0;34m'inf'\u001b[0m\u001b[0;34m)\u001b[0m\u001b[0;34m\u001b[0m\u001b[0;34m\u001b[0m\u001b[0m\n\u001b[0;32m----> 3\u001b[0;31m \u001b[0;32mfor\u001b[0m \u001b[0mi\u001b[0m \u001b[0;32min\u001b[0m \u001b[0mrange\u001b[0m\u001b[0;34m(\u001b[0m\u001b[0mn\u001b[0m\u001b[0;34m)\u001b[0m\u001b[0;34m:\u001b[0m\u001b[0;34m\u001b[0m\u001b[0;34m\u001b[0m\u001b[0m\n\u001b[0m\u001b[1;32m      4\u001b[0m     \u001b[0;32mfor\u001b[0m \u001b[0mj\u001b[0m \u001b[0;32min\u001b[0m \u001b[0mrange\u001b[0m\u001b[0;34m(\u001b[0m\u001b[0mi\u001b[0m\u001b[0;34m+\u001b[0m\u001b[0;36m1\u001b[0m\u001b[0;34m,\u001b[0m\u001b[0mn\u001b[0m\u001b[0;34m)\u001b[0m\u001b[0;34m:\u001b[0m\u001b[0;34m\u001b[0m\u001b[0;34m\u001b[0m\u001b[0m\n\u001b[1;32m      5\u001b[0m         \u001b[0;32mif\u001b[0m \u001b[0mtorch\u001b[0m\u001b[0;34m.\u001b[0m\u001b[0mlinalg\u001b[0m\u001b[0;34m.\u001b[0m\u001b[0mnorm\u001b[0m\u001b[0;34m(\u001b[0m\u001b[0mthrees\u001b[0m\u001b[0;34m[\u001b[0m\u001b[0mi\u001b[0m\u001b[0;34m]\u001b[0m \u001b[0;34m-\u001b[0m \u001b[0mthrees\u001b[0m\u001b[0;34m[\u001b[0m\u001b[0mj\u001b[0m\u001b[0;34m]\u001b[0m\u001b[0;34m)\u001b[0m\u001b[0;34m.\u001b[0m\u001b[0mitem\u001b[0m\u001b[0;34m(\u001b[0m\u001b[0;34m)\u001b[0m \u001b[0;34m<\u001b[0m \u001b[0mradius\u001b[0m\u001b[0;34m:\u001b[0m\u001b[0;34m\u001b[0m\u001b[0;34m\u001b[0m\u001b[0m\n",
      "\u001b[0;31mNameError\u001b[0m: name 'n' is not defined"
     ]
    }
   ],
   "source": [
    "# Calculate distances\n",
    "radius = float('inf')\n",
    "for i in range(n):\n",
    "    for j in range(i+1,n):\n",
    "        if torch.linalg.norm(threes[i] - threes[j]).item() < radius:\n",
    "            radius = torch.linalg.norm(threes[i] - threes[j]).item()\n",
    "radius = radius/2.5\n",
    "radius"
   ]
  },
  {
   "cell_type": "code",
   "execution_count": null,
   "id": "clean-occasions",
   "metadata": {},
   "outputs": [],
   "source": []
  },
  {
   "cell_type": "code",
   "execution_count": null,
   "id": "enhanced-saudi",
   "metadata": {},
   "outputs": [],
   "source": [
    "noisy_threes = torch.Tensor(torch.Size([int(n*m), 1, 28, 28]))\n",
    "noisy_labels = torch.Tensor(torch.Size([n*m, n]))\n",
    "for i in range(n):\n",
    "    for j in range(m):\n",
    "        noisy_threes[i*n + j]= threes[i] + noise[j]   \n",
    "        noisy_labels[i*m + j]=  torch.eye(n)[i]\n",
    "        \n"
   ]
  },
  {
   "cell_type": "markdown",
   "id": "indoor-shoot",
   "metadata": {},
   "source": [
    "if False:\n",
    "    print(noisy_threes.shape, noisy_labels.shape)\n",
    "if False:\n",
    "    plt.imshow(threes[0][0], cmap=\"gray\")\n",
    "    plt.show()\n",
    "    plt.imshow(noisy_threes[0][0], cmap=\"gray\")\n",
    "    plt.show()\n",
    "    plt.imshow(noisy_threes[1][0], cmap=\"gray\")"
   ]
  }
 ],
 "metadata": {
  "kernelspec": {
   "display_name": "Python 3",
   "language": "python",
   "name": "python3"
  },
  "language_info": {
   "codemirror_mode": {
    "name": "ipython",
    "version": 3
   },
   "file_extension": ".py",
   "mimetype": "text/x-python",
   "name": "python",
   "nbconvert_exporter": "python",
   "pygments_lexer": "ipython3",
   "version": "3.8.2"
  }
 },
 "nbformat": 4,
 "nbformat_minor": 5
}
